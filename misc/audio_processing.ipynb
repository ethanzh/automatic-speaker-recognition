{
 "cells": [
  {
   "cell_type": "code",
   "execution_count": 3,
   "metadata": {
    "tags": []
   },
   "outputs": [
    {
     "output_type": "stream",
     "name": "stderr",
     "text": "Using TensorFlow backend.\n"
    }
   ],
   "source": [
    "import os\n",
    "from pathlib import Path\n",
    "from math import ceil\n",
    "from pydub import AudioSegment\n",
    "\n",
    "import os\n",
    "import sys\n",
    "import numpy as np\n",
    "import random\n",
    "from audio import read_mfcc\n",
    "from batcher import sample_from_mfcc\n",
    "from constants import SAMPLE_RATE, NUM_FRAMES\n",
    "from conv_models import DeepSpeakerModel\n",
    "from test import batch_cosine_similarity\n",
    "import tensorflow as tf\n",
    "import logging\n",
    "import matplotlib.pyplot as plt\n",
    "from tabulate import tabulate\n",
    "from torch.utils.data import Dataset"
   ]
  },
  {
   "cell_type": "code",
   "execution_count": 4,
   "metadata": {},
   "outputs": [],
   "source": [
    "model = DeepSpeakerModel()\n",
    "model.m.load_weights('ResCNN_triplet_training_checkpoint_265.h5', by_name=True)"
   ]
  },
  {
   "cell_type": "code",
   "execution_count": 5,
   "metadata": {},
   "outputs": [],
   "source": [
    "def match_target_amplitude(sound, target_dBFS):\n",
    "    change_in_dBFS = target_dBFS - sound.dBFS\n",
    "    return sound.apply_gain(change_in_dBFS)\n",
    "\n",
    "\n",
    "def split_audio(input_path: str, length=10, filetype='.wav'):\n",
    "    \"\"\"given a directory containing several long audio files, trim every\n",
    "    clip into 10 second incremenets and output to a folder\n",
    "\n",
    "    e.g. holmes/ethan.wav will turn into holmes_split/ethan/1.wav, ...\n",
    "    \"\"\"\n",
    "    inputs = [f for f in os.listdir(input_path) if filetype in f]\n",
    "\n",
    "    for i in inputs:\n",
    "        path = f'{input_path}/{i}'\n",
    "        name = i.replace(filetype, '')\n",
    "        if filetype == '.wav':\n",
    "            audio = AudioSegment.from_wav(path)\n",
    "        elif filetype == '.mp3':\n",
    "            audio = AudioSegment.from_mp3(path)\n",
    "        else:\n",
    "            audio = None\n",
    "\n",
    "        # measured in ms\n",
    "        audio_length_s = len(audio) / 1000\n",
    "\n",
    "        # split clips into 10s clips\n",
    "        num_clips = ceil(audio_length_s / length)\n",
    "\n",
    "        trimmed_clips = []\n",
    "        prev_end = 0\n",
    "        for clip_num in range(1, num_clips):\n",
    "            trimmed_clip = audio[prev_end:clip_num * length * 1_000]\n",
    "            trimmed_clips.append(trimmed_clip)\n",
    "            prev_end = clip_num * length * 1_000\n",
    "\n",
    "        cleaned_name = input_path.replace('audio/original/', '')\n",
    "\n",
    "        path = f'audio/split/{cleaned_name}/{name}'\n",
    "        Path(path).mkdir(parents=True, exist_ok=True)\n",
    "\n",
    "        for i, clip in enumerate(trimmed_clips):\n",
    "            clip = match_target_amplitude(clip, -20.0)\n",
    "            clip.export(f'{path}/{cleaned_name}_{i}.wav', format='wav')"
   ]
  },
  {
   "cell_type": "code",
   "execution_count": 6,
   "metadata": {
    "tags": []
   },
   "outputs": [
    {
     "output_type": "error",
     "ename": "KeyboardInterrupt",
     "evalue": "",
     "traceback": [
      "\u001b[0;31m---------------------------------------------------------------------------\u001b[0m",
      "\u001b[0;31mKeyboardInterrupt\u001b[0m                         Traceback (most recent call last)",
      "\u001b[0;32m<ipython-input-6-f247bdcf9b88>\u001b[0m in \u001b[0;36m<module>\u001b[0;34m\u001b[0m\n\u001b[1;32m      1\u001b[0m \u001b[0;31m#split_audio('audio/original/SherlockHolmes', length=10)\u001b[0m\u001b[0;34m\u001b[0m\u001b[0;34m\u001b[0m\u001b[0;34m\u001b[0m\u001b[0m\n\u001b[1;32m      2\u001b[0m \u001b[0;31m#split_audio('audio/original/BackgroundNoise', length=10)\u001b[0m\u001b[0;34m\u001b[0m\u001b[0;34m\u001b[0m\u001b[0;34m\u001b[0m\u001b[0m\n\u001b[0;32m----> 3\u001b[0;31m \u001b[0msplit_audio\u001b[0m\u001b[0;34m(\u001b[0m\u001b[0;34m'audio/original/Accents'\u001b[0m\u001b[0;34m,\u001b[0m \u001b[0mlength\u001b[0m\u001b[0;34m=\u001b[0m\u001b[0;36m10\u001b[0m\u001b[0;34m,\u001b[0m \u001b[0mfiletype\u001b[0m\u001b[0;34m=\u001b[0m\u001b[0;34m'.mp3'\u001b[0m\u001b[0;34m)\u001b[0m\u001b[0;34m\u001b[0m\u001b[0;34m\u001b[0m\u001b[0m\n\u001b[0m",
      "\u001b[0;32m<ipython-input-5-7e969407f864>\u001b[0m in \u001b[0;36msplit_audio\u001b[0;34m(input_path, length, filetype)\u001b[0m\n\u001b[1;32m     18\u001b[0m             \u001b[0maudio\u001b[0m \u001b[0;34m=\u001b[0m \u001b[0mAudioSegment\u001b[0m\u001b[0;34m.\u001b[0m\u001b[0mfrom_wav\u001b[0m\u001b[0;34m(\u001b[0m\u001b[0mpath\u001b[0m\u001b[0;34m)\u001b[0m\u001b[0;34m\u001b[0m\u001b[0;34m\u001b[0m\u001b[0m\n\u001b[1;32m     19\u001b[0m         \u001b[0;32melif\u001b[0m \u001b[0mfiletype\u001b[0m \u001b[0;34m==\u001b[0m \u001b[0;34m'.mp3'\u001b[0m\u001b[0;34m:\u001b[0m\u001b[0;34m\u001b[0m\u001b[0;34m\u001b[0m\u001b[0m\n\u001b[0;32m---> 20\u001b[0;31m             \u001b[0maudio\u001b[0m \u001b[0;34m=\u001b[0m \u001b[0mAudioSegment\u001b[0m\u001b[0;34m.\u001b[0m\u001b[0mfrom_mp3\u001b[0m\u001b[0;34m(\u001b[0m\u001b[0mpath\u001b[0m\u001b[0;34m)\u001b[0m\u001b[0;34m\u001b[0m\u001b[0;34m\u001b[0m\u001b[0m\n\u001b[0m\u001b[1;32m     21\u001b[0m         \u001b[0;32melse\u001b[0m\u001b[0;34m:\u001b[0m\u001b[0;34m\u001b[0m\u001b[0;34m\u001b[0m\u001b[0m\n\u001b[1;32m     22\u001b[0m             \u001b[0maudio\u001b[0m \u001b[0;34m=\u001b[0m \u001b[0;32mNone\u001b[0m\u001b[0;34m\u001b[0m\u001b[0;34m\u001b[0m\u001b[0m\n",
      "\u001b[0;32m~/Code/automatic-speaker-recognition/venv/lib/python3.8/site-packages/pydub/audio_segment.py\u001b[0m in \u001b[0;36mfrom_mp3\u001b[0;34m(cls, file, parameters)\u001b[0m\n\u001b[1;32m    736\u001b[0m     \u001b[0;34m@\u001b[0m\u001b[0mclassmethod\u001b[0m\u001b[0;34m\u001b[0m\u001b[0;34m\u001b[0m\u001b[0m\n\u001b[1;32m    737\u001b[0m     \u001b[0;32mdef\u001b[0m \u001b[0mfrom_mp3\u001b[0m\u001b[0;34m(\u001b[0m\u001b[0mcls\u001b[0m\u001b[0;34m,\u001b[0m \u001b[0mfile\u001b[0m\u001b[0;34m,\u001b[0m \u001b[0mparameters\u001b[0m\u001b[0;34m=\u001b[0m\u001b[0;32mNone\u001b[0m\u001b[0;34m)\u001b[0m\u001b[0;34m:\u001b[0m\u001b[0;34m\u001b[0m\u001b[0;34m\u001b[0m\u001b[0m\n\u001b[0;32m--> 738\u001b[0;31m         \u001b[0;32mreturn\u001b[0m \u001b[0mcls\u001b[0m\u001b[0;34m.\u001b[0m\u001b[0mfrom_file\u001b[0m\u001b[0;34m(\u001b[0m\u001b[0mfile\u001b[0m\u001b[0;34m,\u001b[0m \u001b[0;34m'mp3'\u001b[0m\u001b[0;34m,\u001b[0m \u001b[0mparameters\u001b[0m\u001b[0;34m=\u001b[0m\u001b[0mparameters\u001b[0m\u001b[0;34m)\u001b[0m\u001b[0;34m\u001b[0m\u001b[0;34m\u001b[0m\u001b[0m\n\u001b[0m\u001b[1;32m    739\u001b[0m \u001b[0;34m\u001b[0m\u001b[0m\n\u001b[1;32m    740\u001b[0m     \u001b[0;34m@\u001b[0m\u001b[0mclassmethod\u001b[0m\u001b[0;34m\u001b[0m\u001b[0;34m\u001b[0m\u001b[0m\n",
      "\u001b[0;32m~/Code/automatic-speaker-recognition/venv/lib/python3.8/site-packages/pydub/audio_segment.py\u001b[0m in \u001b[0;36mfrom_file\u001b[0;34m(cls, file, format, codec, parameters, **kwargs)\u001b[0m\n\u001b[1;32m    716\u001b[0m         p = subprocess.Popen(conversion_command, stdin=stdin_parameter,\n\u001b[1;32m    717\u001b[0m                              stdout=subprocess.PIPE, stderr=subprocess.PIPE)\n\u001b[0;32m--> 718\u001b[0;31m         \u001b[0mp_out\u001b[0m\u001b[0;34m,\u001b[0m \u001b[0mp_err\u001b[0m \u001b[0;34m=\u001b[0m \u001b[0mp\u001b[0m\u001b[0;34m.\u001b[0m\u001b[0mcommunicate\u001b[0m\u001b[0;34m(\u001b[0m\u001b[0minput\u001b[0m\u001b[0;34m=\u001b[0m\u001b[0mstdin_data\u001b[0m\u001b[0;34m)\u001b[0m\u001b[0;34m\u001b[0m\u001b[0;34m\u001b[0m\u001b[0m\n\u001b[0m\u001b[1;32m    719\u001b[0m \u001b[0;34m\u001b[0m\u001b[0m\n\u001b[1;32m    720\u001b[0m         \u001b[0;32mif\u001b[0m \u001b[0mp\u001b[0m\u001b[0;34m.\u001b[0m\u001b[0mreturncode\u001b[0m \u001b[0;34m!=\u001b[0m \u001b[0;36m0\u001b[0m \u001b[0;32mor\u001b[0m \u001b[0mlen\u001b[0m\u001b[0;34m(\u001b[0m\u001b[0mp_out\u001b[0m\u001b[0;34m)\u001b[0m \u001b[0;34m==\u001b[0m \u001b[0;36m0\u001b[0m\u001b[0;34m:\u001b[0m\u001b[0;34m\u001b[0m\u001b[0;34m\u001b[0m\u001b[0m\n",
      "\u001b[0;32m/usr/local/Cellar/python@3.8/3.8.5/Frameworks/Python.framework/Versions/3.8/lib/python3.8/subprocess.py\u001b[0m in \u001b[0;36mcommunicate\u001b[0;34m(self, input, timeout)\u001b[0m\n\u001b[1;32m   1022\u001b[0m \u001b[0;34m\u001b[0m\u001b[0m\n\u001b[1;32m   1023\u001b[0m             \u001b[0;32mtry\u001b[0m\u001b[0;34m:\u001b[0m\u001b[0;34m\u001b[0m\u001b[0;34m\u001b[0m\u001b[0m\n\u001b[0;32m-> 1024\u001b[0;31m                 \u001b[0mstdout\u001b[0m\u001b[0;34m,\u001b[0m \u001b[0mstderr\u001b[0m \u001b[0;34m=\u001b[0m \u001b[0mself\u001b[0m\u001b[0;34m.\u001b[0m\u001b[0m_communicate\u001b[0m\u001b[0;34m(\u001b[0m\u001b[0minput\u001b[0m\u001b[0;34m,\u001b[0m \u001b[0mendtime\u001b[0m\u001b[0;34m,\u001b[0m \u001b[0mtimeout\u001b[0m\u001b[0;34m)\u001b[0m\u001b[0;34m\u001b[0m\u001b[0;34m\u001b[0m\u001b[0m\n\u001b[0m\u001b[1;32m   1025\u001b[0m             \u001b[0;32mexcept\u001b[0m \u001b[0mKeyboardInterrupt\u001b[0m\u001b[0;34m:\u001b[0m\u001b[0;34m\u001b[0m\u001b[0;34m\u001b[0m\u001b[0m\n\u001b[1;32m   1026\u001b[0m                 \u001b[0;31m# https://bugs.python.org/issue25942\u001b[0m\u001b[0;34m\u001b[0m\u001b[0;34m\u001b[0m\u001b[0;34m\u001b[0m\u001b[0m\n",
      "\u001b[0;32m/usr/local/Cellar/python@3.8/3.8.5/Frameworks/Python.framework/Versions/3.8/lib/python3.8/subprocess.py\u001b[0m in \u001b[0;36m_communicate\u001b[0;34m(self, input, endtime, orig_timeout)\u001b[0m\n\u001b[1;32m   1864\u001b[0m                             'failed to raise TimeoutExpired.')\n\u001b[1;32m   1865\u001b[0m \u001b[0;34m\u001b[0m\u001b[0m\n\u001b[0;32m-> 1866\u001b[0;31m                     \u001b[0mready\u001b[0m \u001b[0;34m=\u001b[0m \u001b[0mselector\u001b[0m\u001b[0;34m.\u001b[0m\u001b[0mselect\u001b[0m\u001b[0;34m(\u001b[0m\u001b[0mtimeout\u001b[0m\u001b[0;34m)\u001b[0m\u001b[0;34m\u001b[0m\u001b[0;34m\u001b[0m\u001b[0m\n\u001b[0m\u001b[1;32m   1867\u001b[0m                     \u001b[0mself\u001b[0m\u001b[0;34m.\u001b[0m\u001b[0m_check_timeout\u001b[0m\u001b[0;34m(\u001b[0m\u001b[0mendtime\u001b[0m\u001b[0;34m,\u001b[0m \u001b[0morig_timeout\u001b[0m\u001b[0;34m,\u001b[0m \u001b[0mstdout\u001b[0m\u001b[0;34m,\u001b[0m \u001b[0mstderr\u001b[0m\u001b[0;34m)\u001b[0m\u001b[0;34m\u001b[0m\u001b[0;34m\u001b[0m\u001b[0m\n\u001b[1;32m   1868\u001b[0m \u001b[0;34m\u001b[0m\u001b[0m\n",
      "\u001b[0;32m/usr/local/Cellar/python@3.8/3.8.5/Frameworks/Python.framework/Versions/3.8/lib/python3.8/selectors.py\u001b[0m in \u001b[0;36mselect\u001b[0;34m(self, timeout)\u001b[0m\n\u001b[1;32m    413\u001b[0m         \u001b[0mready\u001b[0m \u001b[0;34m=\u001b[0m \u001b[0;34m[\u001b[0m\u001b[0;34m]\u001b[0m\u001b[0;34m\u001b[0m\u001b[0;34m\u001b[0m\u001b[0m\n\u001b[1;32m    414\u001b[0m         \u001b[0;32mtry\u001b[0m\u001b[0;34m:\u001b[0m\u001b[0;34m\u001b[0m\u001b[0;34m\u001b[0m\u001b[0m\n\u001b[0;32m--> 415\u001b[0;31m             \u001b[0mfd_event_list\u001b[0m \u001b[0;34m=\u001b[0m \u001b[0mself\u001b[0m\u001b[0;34m.\u001b[0m\u001b[0m_selector\u001b[0m\u001b[0;34m.\u001b[0m\u001b[0mpoll\u001b[0m\u001b[0;34m(\u001b[0m\u001b[0mtimeout\u001b[0m\u001b[0;34m)\u001b[0m\u001b[0;34m\u001b[0m\u001b[0;34m\u001b[0m\u001b[0m\n\u001b[0m\u001b[1;32m    416\u001b[0m         \u001b[0;32mexcept\u001b[0m \u001b[0mInterruptedError\u001b[0m\u001b[0;34m:\u001b[0m\u001b[0;34m\u001b[0m\u001b[0;34m\u001b[0m\u001b[0m\n\u001b[1;32m    417\u001b[0m             \u001b[0;32mreturn\u001b[0m \u001b[0mready\u001b[0m\u001b[0;34m\u001b[0m\u001b[0;34m\u001b[0m\u001b[0m\n",
      "\u001b[0;31mKeyboardInterrupt\u001b[0m: "
     ]
    }
   ],
   "source": [
    "#split_audio('audio/original/SherlockHolmes', length=10)\n",
    "#split_audio('audio/original/BackgroundNoise', length=10)\n",
    "split_audio('audio/original/Accents', length=10, filetype='.mp3')"
   ]
  },
  {
   "cell_type": "code",
   "execution_count": 14,
   "metadata": {},
   "outputs": [],
   "source": [
    "def single_audio_to_mfcc(path):\n",
    "    mfcc = sample_from_mfcc(read_mfcc(path, SAMPLE_RATE), NUM_FRAMES)\n",
    "    print(mfcc.shape)\n",
    "    predict = model.m.predict(np.expand_dims(mfcc, axis=0))\n",
    "    new_clip_name = path.replace('wav', 'npy')\n",
    "    np.save(new_clip_name, predict)"
   ]
  },
  {
   "cell_type": "code",
   "execution_count": 15,
   "metadata": {
    "tags": []
   },
   "outputs": [
    {
     "output_type": "stream",
     "name": "stdout",
     "text": "(160, 64, 1)\n"
    }
   ],
   "source": [
    "single_audio_to_mfcc('/Users/ethanzh/Code/automatic-speaker-recognition/audio/split/SherlockHolmes/cheryl/noisy_-20_8.wav')"
   ]
  },
  {
   "cell_type": "code",
   "execution_count": 20,
   "metadata": {
    "tags": [
     "outputPrepend"
    ]
   },
   "outputs": [
    {
     "output_type": "stream",
     "name": "stdout",
     "text": "man22.mp3\n[1419/2139] - nepali5.mp3\n[1420/2139] - uzbek2.mp3\n[1421/2139] - russian15.mp3\n[1422/2139] - armenian3.mp3\n[1423/2139] - russian29.mp3\n[1424/2139] - english96.mp3\n[1425/2139] - spanish2.mp3\n[1426/2139] - turkish5.mp3\n[1427/2139] - english82.mp3\n[1428/2139] - kazakh1.mp3\n[1429/2139] - igbo1.mp3\n[1430/2139] - portuguese3.mp3\n[1431/2139] - english55.mp3\n[1432/2139] - norwegian3.mp3\n[1433/2139] - english41.mp3\n[1434/2139] - english69.mp3\n[1435/2139] - vietnamese6.mp3\n[1436/2139] - oromo3.mp3\n[1437/2139] - khmer1.mp3\n[1438/2139] - english264.mp3\n[1439/2139] - japanese2.mp3\n[1440/2139] - kurdish6.mp3\n[1441/2139] - english502.mp3\n[1442/2139] - dutch46.mp3\n[1443/2139] - english516.mp3\n[1444/2139] - english270.mp3\n[1445/2139] - korean38.mp3\n[1446/2139] - english258.mp3\n[1447/2139] - korean10.mp3\n[1448/2139] - mongolian3.mp3\n[1449/2139] - satawalese2.mp3\n[1450/2139] - german6.mp3\n[1451/2139] - teochew1.mp3\n[1452/2139] - spanish16.mp3\n[1453/2139] - jola1.mp3\n[1454/2139] - spanish17.mp3\n[1455/2139] - serbian18.mp3\n[1456/2139] - german7.mp3\n[1457/2139] - filipino2.mp3\n[1458/2139] - korean11.mp3\n[1459/2139] - english259.mp3\n[1460/2139] - mongolian2.mp3\n[1461/2139] - english517.mp3\n[1462/2139] - korean39.mp3\n[1463/2139] - english271.mp3\n[1464/2139] - japanese3.mp3\n[1465/2139] - english265.mp3\n[1466/2139] - dutch47.mp3\n[1467/2139] - english503.mp3\n[1468/2139] - kurdish7.mp3\n[1469/2139] - english68.mp3\n[1470/2139] - oromo2.mp3\n[1471/2139] - vietnamese7.mp3\n[1472/2139] - norwegian2.mp3\n[1473/2139] - english40.mp3\n[1474/2139] - english54.mp3\n[1475/2139] - portuguese2.mp3\n[1476/2139] - english83.mp3\n[1477/2139] - turkish4.mp3\n[1478/2139] - spanish3.mp3\n[1479/2139] - english97.mp3\n[1480/2139] - sindhi1.mp3\n[1481/2139] - russian28.mp3\n[1482/2139] - armenian2.mp3\n[1483/2139] - russian14.mp3\n[1484/2139] - nepali4.mp3\n[1485/2139] - uzbek3.mp3\n[1486/2139] - german23.mp3\n[1487/2139] - vietnamese11.mp3\n[1488/2139] - amharic13.mp3\n[1489/2139] - english107.mp3\n[1490/2139] - french12.mp3\n[1491/2139] - english1.mp3\n[1492/2139] - mandarin5.mp3\n[1493/2139] - english113.mp3\n[1494/2139] - portuguese29.mp3\n[1495/2139] - macedonian9.mp3\n[1496/2139] - english488.mp3\n[1497/2139] - amharic9.mp3\n[1498/2139] - arabic90.mp3\n[1499/2139] - portuguese15.mp3\n[1500/2139] - arabic84.mp3\n[1501/2139] - spanish158.mp3\n[1502/2139] - croatian4.mp3\n[1503/2139] - english339.mp3\n[1504/2139] - turkish12.mp3\n[1505/2139] - english463.mp3\n[1506/2139] - mandarin55.mp3\n[1507/2139] - taiwanese2.mp3\n[1508/2139] - english305.mp3\n[1509/2139] - arabic53.mp3\n[1510/2139] - english311.mp3\n[1511/2139] - arabic47.mp3\n[1512/2139] - mandarin41.mp3\n[1513/2139] - english477.mp3\n[1514/2139] - arabic51.mp3\n[1515/2139] - english307.mp3\n[1516/2139] - mandarin57.mp3\n[1517/2139] - english461.mp3\n[1518/2139] - english475.mp3\n[1519/2139] - mandarin43.mp3\n[1520/2139] - arabic45.mp3\n[1521/2139] - english313.mp3\n[1522/2139] - croatian6.mp3\n[1523/2139] - english449.mp3\n[1524/2139] - turkish10.mp3\n[1525/2139] - mortlockese1.mp3\n[1526/2139] - arabic79.mp3\n[1527/2139] - arabic92.mp3\n[1528/2139] - arabic86.mp3\n[1529/2139] - portuguese17.mp3\n[1530/2139] - korean2.mp3\n[1531/2139] - romanian2.mp3\n[1532/2139] - farsi8.mp3\n[1533/2139] - french10.mp3\n[1534/2139] - english105.mp3\n[1535/2139] - amharic11.mp3\n[1536/2139] - english111.mp3\n[1537/2139] - mandarin7.mp3\n[1538/2139] - english3.mp3\n[1539/2139] - german21.mp3\n[1540/2139] - english139.mp3\n[1541/2139] - vietnamese13.mp3\n[1542/2139] - german35.mp3\n[1543/2139] - french38.mp3\n[1544/2139] - russian16.mp3\n[1545/2139] - uzbek1.mp3\n[1546/2139] - nepali6.mp3\n[1547/2139] - english81.mp3\n[1548/2139] - english95.mp3\n[1549/2139] - spanish1.mp3\n[1550/2139] - turkish6.mp3\n[1551/2139] - igbo2.mp3\n[1552/2139] - kazakh2.mp3\n[1553/2139] - english42.mp3\n[1554/2139] - english56.mp3\n[1555/2139] - khmer2.mp3\n[1556/2139] - vietnamese5.mp3\n[1557/2139] - english273.mp3\n[1558/2139] - english515.mp3\n[1559/2139] - kurdish5.mp3\n[1560/2139] - english501.mp3\n[1561/2139] - dutch45.mp3\n[1562/2139] - english267.mp3\n[1563/2139] - japanese1.mp3\n[1564/2139] - satawalese1.mp3\n[1565/2139] - english529.mp3\n[1566/2139] - korean13.mp3\n[1567/2139] - spanish29.mp3\n[1568/2139] - spanish15.mp3\n[1569/2139] - german5.mp3\n[1570/2139] - english298.mp3\n[1571/2139] - german4.mp3\n[1572/2139] - english299.mp3\n[1573/2139] - spanish14.mp3\n[1574/2139] - spanish28.mp3\n[1575/2139] - mongolian1.mp3\n[1576/2139] - frisian1.mp3\n[1577/2139] - filipino1.mp3\n[1578/2139] - korean12.mp3\n[1579/2139] - english528.mp3\n[1580/2139] - dutch44.mp3\n[1581/2139] - english500.mp3\n[1582/2139] - kurdish4.mp3\n[1583/2139] - english266.mp3\n[1584/2139] - kanuri1.mp3\n[1585/2139] - english272.mp3\n[1586/2139] - english514.mp3\n[1587/2139] - oromo1.mp3\n[1588/2139] - vietnamese4.mp3\n[1589/2139] - khmer3.mp3\n[1590/2139] - english57.mp3\n[1591/2139] - portuguese1.mp3\n[1592/2139] - english43.mp3\n[1593/2139] - norwegian1.mp3\n[1594/2139] - kazakh3.mp3\n[1595/2139] - igbo3.mp3\n[1596/2139] - turkish7.mp3\n[1597/2139] - english94.mp3\n[1598/2139] - english80.mp3\n[1599/2139] - armenian1.mp3\n[1600/2139] - taishan1.mp3\n[1601/2139] - nepali7.mp3\n[1602/2139] - russian17.mp3\n[1603/2139] - french39.mp3\n[1604/2139] - german34.mp3\n[1605/2139] - vietnamese12.mp3\n[1606/2139] - german20.mp3\n[1607/2139] - english138.mp3\n[1608/2139] - english110.mp3\n[1609/2139] - english2.mp3\n[1610/2139] - mandarin6.mp3\n[1611/2139] - french11.mp3\n[1612/2139] - farsi9.mp3\n[1613/2139] - romanian3.mp3\n[1614/2139] - amharic10.mp3\n[1615/2139] - english104.mp3\n[1616/2139] - swedish20.mp3\n[1617/2139] - ilonggo1.mp3\n[1618/2139] - korean3.mp3\n[1619/2139] - portuguese16.mp3\n[1620/2139] - arabic87.mp3\n[1621/2139] - arabic93.mp3\n[1622/2139] - turkish11.mp3\n[1623/2139] - english448.mp3\n[1624/2139] - arabic78.mp3\n[1625/2139] - croatian7.mp3\n[1626/2139] - english474.mp3\n[1627/2139] - english312.mp3\n[1628/2139] - arabic44.mp3\n[1629/2139] - mandarin42.mp3\n[1630/2139] - mandarin56.mp3\n[1631/2139] - taiwanese1.mp3\n[1632/2139] - english306.mp3\n[1633/2139] - arabic50.mp3\n[1634/2139] - english460.mp3\n[1635/2139] - dari5.mp3\n[1636/2139] - mandarin19.mp3\n[1637/2139] - english349.mp3\n[1638/2139] - mandarin31.mp3\n[1639/2139] - arabic37.mp3\n[1640/2139] - english361.mp3\n[1641/2139] - english407.mp3\n[1642/2139] - hindi9.mp3\n[1643/2139] - mauritian2.mp3\n[1644/2139] - italian17.mp3\n[1645/2139] - english413.mp3\n[1646/2139] - arabic23.mp3\n[1647/2139] - english375.mp3\n[1648/2139] - mandarin25.mp3\n[1649/2139] - spanish114.mp3\n[1650/2139] - spanish100.mp3\n[1651/2139] - pashto1.mp3\n[1652/2139] - gujarati1.mp3\n[1653/2139] - spanish128.mp3\n[1654/2139] - bulgarian7.mp3\n[1655/2139] - urdu6.mp3\n[1656/2139] - hindi13.mp3\n[1657/2139] - hungarian2.mp3\n[1658/2139] - romanian12.mp3\n[1659/2139] - polish21.mp3\n[1660/2139] - serbian3.mp3\n[1661/2139] - english163.mp3\n[1662/2139] - kalanga1.mp3\n[1663/2139] - english177.mp3\n[1664/2139] - krio3.mp3\n[1665/2139] - french62.mp3\n[1666/2139] - tagalog3.mp3\n[1667/2139] - english188.mp3\n[1668/2139] - french2.mp3\n[1669/2139] - wolof1.mp3\n[1670/2139] - finnish6.mp3\n[1671/2139] - estonian3.mp3\n[1672/2139] - tagalog16.mp3\n[1673/2139] - arabic2.mp3\n[1674/2139] - shan1.mp3\n[1675/2139] - albanian5.mp3\n[1676/2139] - english18.mp3\n[1677/2139] - english24.mp3\n[1678/2139] - japanese14.mp3\n[1679/2139] - english30.mp3\n[1680/2139] - english229.mp3\n[1681/2139] - chichewa1.mp3\n[1682/2139] - english215.mp3\n[1683/2139] - english573.mp3\n[1684/2139] - dutch37.mp3\n[1685/2139] - dutch23.mp3\n[1686/2139] - english567.mp3\n[1687/2139] - english201.mp3\n[1688/2139] - spanish98.mp3\n[1689/2139] - korean49.mp3\n[1690/2139] - cantonese19.mp3\n[1691/2139] - spanish73.mp3\n[1692/2139] - polish1.mp3\n[1693/2139] - spanish67.mp3\n[1694/2139] - tigrigna5.mp3\n[1695/2139] - hausa5.mp3\n[1696/2139] - hebrew8.mp3\n[1697/2139] - kikuyu2.mp3\n[1698/2139] - kikuyu3.mp3\n[1699/2139] - hausa4.mp3\n[1700/2139] - hebrew9.mp3\n[1701/2139] - tigrigna4.mp3\n[1702/2139] - spanish66.mp3\n[1703/2139] - spanish72.mp3\n[1704/2139] - cantonese18.mp3\n[1705/2139] - english566.mp3\n[1706/2139] - dutch22.mp3\n[1707/2139] - korean48.mp3\n[1708/2139] - english200.mp3\n[1709/2139] - spanish99.mp3\n[1710/2139] - english214.mp3\n[1711/2139] - dutch36.mp3\n[1712/2139] - lithuanian1.mp3\n[1713/2139] - english572.mp3\n[1714/2139] - english228.mp3\n[1715/2139] - japanese15.mp3\n[1716/2139] - english31.mp3\n[1717/2139] - english25.mp3\n[1718/2139] - english19.mp3\n[1719/2139] - albanian4.mp3\n[1720/2139] - arabic3.mp3\n[1721/2139] - kirghiz1.mp3\n[1722/2139] - tagalog17.mp3\n[1723/2139] - finnish7.mp3\n[1724/2139] - estonian2.mp3\n[1725/2139] - english189.mp3\n[1726/2139] - french3.mp3\n[1727/2139] - macedonian26.mp3\n[1728/2139] - tagalog2.mp3\n[1729/2139] - english176.mp3\n[1730/2139] - french63.mp3\n[1731/2139] - krio2.mp3\n[1732/2139] - english162.mp3\n[1733/2139] - sa'a1.mp3\n[1734/2139] - serbian2.mp3\n[1735/2139] - polish20.mp3\n[1736/2139] - polish34.mp3\n[1737/2139] - hungarian3.mp3\n[1738/2139] - hindi12.mp3\n[1739/2139] - romanian13.mp3\n[1740/2139] - urdu7.mp3\n[1741/2139] - bulgarian6.mp3\n[1742/2139] - spanish129.mp3\n[1743/2139] - spanish101.mp3\n[1744/2139] - spanish115.mp3\n[1745/2139] - italian16.mp3\n[1746/2139] - english412.mp3\n[1747/2139] - hindi8.mp3\n[1748/2139] - mandarin24.mp3\n[1749/2139] - english374.mp3\n[1750/2139] - arabic22.mp3\n[1751/2139] - english360.mp3\n[1752/2139] - arabic36.mp3\n[1753/2139] - mandarin30.mp3\n[1754/2139] - english406.mp3\n[1755/2139] - english348.mp3\n[1756/2139] - mandarin18.mp3\n[1757/2139] - bavarian1.mp3\n[1758/2139] - dari4.mp3\n[1759/2139] - yupik1.mp3\n[1760/2139] - italian28.mp3\n[1761/2139] - english438.mp3\n[1762/2139] - farsi18.mp3\n[1763/2139] - arabic20.mp3\n[1764/2139] - english376.mp3\n[1765/2139] - mandarin26.mp3\n[1766/2139] - dutch9.mp3\n[1767/2139] - english410.mp3\n[1768/2139] - italian14.mp3\n[1769/2139] - mauritian1.mp3\n[1770/2139] - english404.mp3\n[1771/2139] - mandarin32.mp3\n[1772/2139] - arabic34.mp3\n[1773/2139] - english362.mp3\n[1774/2139] - english389.mp3\n[1775/2139] - gujarati2.mp3\n[1776/2139] - spanish103.mp3\n[1777/2139] - pashto2.mp3\n[1778/2139] - spanish117.mp3\n[1779/2139] - urdu5.mp3\n[1780/2139] - bulgarian4.mp3\n[1781/2139] - polish22.mp3\n[1782/2139] - english148.mp3\n[1783/2139] - romanian11.mp3\n[1784/2139] - hindi10.mp3\n[1785/2139] - hungarian1.mp3\n[1786/2139] - french49.mp3\n[1787/2139] - bosnian9.mp3\n[1788/2139] - french61.mp3\n[1789/2139] - kiswahili9.mp3\n[1790/2139] - english174.mp3\n[1791/2139] - english160.mp3\n[1792/2139] - macedonian24.mp3\n[1793/2139] - french1.mp3\n[1794/2139] - macedonian18.mp3\n[1795/2139] - wolof2.mp3\n[1796/2139] - finnish5.mp3\n[1797/2139] - arabic1.mp3\n[1798/2139] - tagalog15.mp3\n[1799/2139] - synthesized4.mp3\n[1800/2139] - albanian6.mp3\n[1801/2139] - english33.mp3\n[1802/2139] - japanese17.mp3\n[1803/2139] - english27.mp3\n[1804/2139] - english558.mp3\n[1805/2139] - greek9.mp3\n[1806/2139] - english202.mp3\n[1807/2139] - dutch20.mp3\n[1808/2139] - english564.mp3\n[1809/2139] - english570.mp3\n[1810/2139] - lithuanian3.mp3\n[1811/2139] - fataluku1.mp3\n[1812/2139] - dutch34.mp3\n[1813/2139] - english216.mp3\n[1814/2139] - polish2.mp3\n[1815/2139] - spanish64.mp3\n[1816/2139] - tigrigna6.mp3\n[1817/2139] - spanish70.mp3\n[1818/2139] - kikuyu1.mp3\n[1819/2139] - spanish58.mp3\n[1820/2139] - hausa6.mp3\n[1821/2139] - hausa7.mp3\n[1822/2139] - spanish59.mp3\n[1823/2139] - spanish71.mp3\n[1824/2139] - tigrigna7.mp3\n[1825/2139] - spanish65.mp3\n[1826/2139] - polish3.mp3\n[1827/2139] - dutch35.mp3\n[1828/2139] - lithuanian2.mp3\n[1829/2139] - english571.mp3\n[1830/2139] - english217.mp3\n[1831/2139] - english203.mp3\n[1832/2139] - english565.mp3\n[1833/2139] - dutch21.mp3\n[1834/2139] - greek8.mp3\n[1835/2139] - bulgarian18.mp3\n[1836/2139] - english559.mp3\n[1837/2139] - english26.mp3\n[1838/2139] - moba1.mp3\n[1839/2139] - english32.mp3\n[1840/2139] - japanese16.mp3\n[1841/2139] - albanian7.mp3\n[1842/2139] - tagalog14.mp3\n[1843/2139] - estonian1.mp3\n[1844/2139] - finnish4.mp3\n[1845/2139] - wolof3.mp3\n[1846/2139] - macedonian19.mp3\n[1847/2139] - tagalog1.mp3\n[1848/2139] - macedonian25.mp3\n[1849/2139] - english161.mp3\n[1850/2139] - kiswahili8.mp3\n[1851/2139] - french60.mp3\n[1852/2139] - krio1.mp3\n[1853/2139] - bosnian8.mp3\n[1854/2139] - english175.mp3\n[1855/2139] - romanian10.mp3\n[1856/2139] - french48.mp3\n[1857/2139] - hindi11.mp3\n[1858/2139] - serbian1.mp3\n[1859/2139] - polish23.mp3\n[1860/2139] - english149.mp3\n[1861/2139] - bulgarian5.mp3\n[1862/2139] - urdu4.mp3\n[1863/2139] - spanish116.mp3\n[1864/2139] - gujarati3.mp3\n[1865/2139] - english388.mp3\n[1866/2139] - pashto3.mp3\n[1867/2139] - spanish102.mp3\n[1868/2139] - english405.mp3\n[1869/2139] - english363.mp3\n[1870/2139] - arabic35.mp3\n[1871/2139] - mandarin33.mp3\n[1872/2139] - mandarin27.mp3\n[1873/2139] - english377.mp3\n[1874/2139] - arabic21.mp3\n[1875/2139] - sicilian1.mp3\n[1876/2139] - english411.mp3\n[1877/2139] - italian15.mp3\n[1878/2139] - dutch8.mp3\n[1879/2139] - english439.mp3\n[1880/2139] - farsi19.mp3\n[1881/2139] - bavarian2.mp3\n[1882/2139] - italian29.mp3\n[1883/2139] - italian11.mp3\n[1884/2139] - english415.mp3\n[1885/2139] - arabic25.mp3\n[1886/2139] - english373.mp3\n[1887/2139] - mandarin23.mp3\n[1888/2139] - mandarin37.mp3\n[1889/2139] - arabic31.mp3\n[1890/2139] - farsi21.mp3\n[1891/2139] - english367.mp3\n[1892/2139] - english401.mp3\n[1893/2139] - english429.mp3\n[1894/2139] - arabic19.mp3\n[1895/2139] - dari3.mp3\n[1896/2139] - bulgarian1.mp3\n[1897/2139] - pashto7.mp3\n[1898/2139] - spanish106.mp3\n[1899/2139] - gujarati7.mp3\n[1900/2139] - english398.mp3\n[1901/2139] - spanish112.mp3\n[1902/2139] - english171.mp3\n[1903/2139] - krio5.mp3\n[1904/2139] - english165.mp3\n[1905/2139] - french58.mp3\n[1906/2139] - polish27.mp3\n[1907/2139] - ewe2.mp3\n[1908/2139] - serbian5.mp3\n[1909/2139] - italian9.mp3\n[1910/2139] - hindi15.mp3\n[1911/2139] - hungarian4.mp3\n[1912/2139] - polish33.mp3\n[1913/2139] - romanian14.mp3\n[1914/2139] - english159.mp3\n[1915/2139] - maltese2.mp3\n[1916/2139] - macedonian21.mp3\n[1917/2139] - french4.mp3\n[1918/2139] - tagalog5.mp3\n[1919/2139] - synthesized1.mp3\n[1920/2139] - albanian3.mp3\n[1921/2139] - arabic4.mp3\n[1922/2139] - tagalog10.mp3\n[1923/2139] - japanese12.mp3\n[1924/2139] - english36.mp3\n[1925/2139] - english22.mp3\n[1926/2139] - indonesian8.mp3\n[1927/2139] - dutch25.mp3\n[1928/2139] - english561.mp3\n[1929/2139] - english207.mp3\n[1930/2139] - english213.mp3\n[1931/2139] - english575.mp3\n[1932/2139] - lithuanian6.mp3\n[1933/2139] - dutch31.mp3\n[1934/2139] - dutch19.mp3\n[1935/2139] - hakka1.mp3\n[1936/2139] - english549.mp3\n[1937/2139] - kikuyu4.mp3\n[1938/2139] - hausa3.mp3\n[1939/2139] - spanish49.mp3\n[1940/2139] - cantonese23.mp3\n[1941/2139] - spanish61.mp3\n[1942/2139] - polish7.mp3\n[1943/2139] - tigrigna3.mp3\n[1944/2139] - spanish75.mp3\n[1945/2139] - spanish74.mp3\n[1946/2139] - ibibio1.mp3\n[1947/2139] - danish8.mp3\n[1948/2139] - tigrigna2.mp3\n[1949/2139] - polish6.mp3\n[1950/2139] - spanish60.mp3\n[1951/2139] - cantonese22.mp3\n[1952/2139] - sardinian1.mp3\n[1953/2139] - spanish48.mp3\n[1954/2139] - hausa2.mp3\n[1955/2139] - english548.mp3\n[1956/2139] - dutch18.mp3\n[1957/2139] - english212.mp3\n[1958/2139] - dutch30.mp3\n[1959/2139] - english574.mp3\n[1960/2139] - english560.mp3\n[1961/2139] - dutch24.mp3\n[1962/2139] - english206.mp3\n[1963/2139] - lao1.mp3\n[1964/2139] - english23.mp3\n[1965/2139] - japanese13.mp3\n[1966/2139] - english37.mp3\n[1967/2139] - tagalog11.mp3\n[1968/2139] - arabic5.mp3\n[1969/2139] - albanian2.mp3\n[1970/2139] - serer1.mp3\n[1971/2139] - tagalog4.mp3\n[1972/2139] - ebira1.mp3\n[1973/2139] - french5.mp3\n[1974/2139] - garifuna2.mp3\n[1975/2139] - macedonian20.mp3\n[1976/2139] - finnish1.mp3\n[1977/2139] - wolof6.mp3\n[1978/2139] - estonian4.mp3\n[1979/2139] - polish32.mp3\n[1980/2139] - hungarian5.mp3\n[1981/2139] - hindi14.mp3\n[1982/2139] - english158.mp3\n[1983/2139] - romanian15.mp3\n[1984/2139] - italian8.mp3\n[1985/2139] - serbian4.mp3\n[1986/2139] - polish26.mp3\n[1987/2139] - french59.mp3\n[1988/2139] - english164.mp3\n[1989/2139] - english170.mp3\n[1990/2139] - krio4.mp3\n[1991/2139] - english399.mp3\n[1992/2139] - spanish113.mp3\n[1993/2139] - spanish107.mp3\n[1994/2139] - pashto6.mp3\n[1995/2139] - gujarati6.mp3\n[1996/2139] - urdu1.mp3\n[1997/2139] - dari2.mp3\n[1998/2139] - english428.mp3\n[1999/2139] - arabic18.mp3\n[2000/2139] - english366.mp3\n[2001/2139] - farsi20.mp3\n[2002/2139] - arabic30.mp3\n[2003/2139] - mandarin36.mp3\n[2004/2139] - english400.mp3\n[2005/2139] - italian10.mp3\n[2006/2139] - english414.mp3\n[2007/2139] - mandarin22.mp3\n[2008/2139] - english372.mp3\n[2009/2139] - arabic24.mp3\n[2010/2139] - english402.mp3\n[2011/2139] - mandarin34.mp3\n[2012/2139] - arabic32.mp3\n[2013/2139] - akan1.mp3\n[2014/2139] - farsi22.mp3\n[2015/2139] - english364.mp3\n[2016/2139] - arabic26.mp3\n[2017/2139] - english370.mp3\n[2018/2139] - mandarin20.mp3\n[2019/2139] - english416.mp3\n[2020/2139] - italian12.mp3\n[2021/2139] - english358.mp3\n[2022/2139] - bulgarian2.mp3\n[2023/2139] - urdu3.mp3\n[2024/2139] - spanish139.mp3\n[2025/2139] - spanish111.mp3\n[2026/2139] - gujarati4.mp3\n[2027/2139] - portuguese48.mp3\n[2028/2139] - pashto4.mp3\n[2029/2139] - spanish105.mp3\n[2030/2139] - english166.mp3\n[2031/2139] - punjabi9.mp3\n[2032/2139] - krio6.mp3\n[2033/2139] - polish18.mp3\n[2034/2139] - english172.mp3\n[2035/2139] - romanian17.mp3\n[2036/2139] - hindi16.mp3\n[2037/2139] - hungarian7.mp3\n[2038/2139] - polish30.mp3\n[2039/2139] - polish24.mp3\n[2040/2139] - serbian6.mp3\n[2041/2139] - ewe1.mp3\n[2042/2139] - wolof4.mp3\n[2043/2139] - finnish3.mp3\n[2044/2139] - maltese1.mp3\n[2045/2139] - english199.mp3\n[2046/2139] - tagalog6.mp3\n[2047/2139] - macedonian22.mp3\n[2048/2139] - french7.mp3\n[2049/2139] - rundi1.mp3\n[2050/2139] - synthesized2.mp3\n[2051/2139] - tagalog13.mp3\n[2052/2139] - sarua1.mp3\n[2053/2139] - arabic7.mp3\n[2054/2139] - english21.mp3\n[2055/2139] - english35.mp3\n[2056/2139] - japanese11.mp3\n[2057/2139] - czech9.mp3\n[2058/2139] - ukrainian11.mp3\n[2059/2139] - lao3.mp3\n[2060/2139] - english576.mp3\n[2061/2139] - lithuanian5.mp3\n[2062/2139] - dutch32.mp3\n[2063/2139] - english210.mp3\n[2064/2139] - spanish89.mp3\n[2065/2139] - english204.mp3\n[2066/2139] - dutch26.mp3\n[2067/2139] - english562.mp3\n[2068/2139] - english238.mp3\n[2069/2139] - cantonese20.mp3\n[2070/2139] - thai8.mp3\n[2071/2139] - ibibio3.mp3\n[2072/2139] - spanish76.mp3\n[2073/2139] - spanish62.mp3\n[2074/2139] - polish4.mp3\n[2075/2139] - tigrigna1.mp3\n[2076/2139] - polish5.mp3\n[2077/2139] - spanish63.mp3\n[2078/2139] - ibibio2.mp3\n[2079/2139] - thai9.mp3\n[2080/2139] - spanish77.mp3\n[2081/2139] - cantonese21.mp3\n[2082/2139] - hausa1.mp3\n[2083/2139] - english239.mp3\n[2084/2139] - english205.mp3\n[2085/2139] - english563.mp3\n[2086/2139] - dutch27.mp3\n[2087/2139] - dutch33.mp3\n[2088/2139] - lithuanian4.mp3\n[2089/2139] - english577.mp3\n[2090/2139] - english211.mp3\n[2091/2139] - spanish88.mp3\n[2092/2139] - ukrainian10.mp3\n[2093/2139] - lao2.mp3\n[2094/2139] - czech8.mp3\n[2095/2139] - english34.mp3\n[2096/2139] - japanese10.mp3\n[2097/2139] - english20.mp3\n[2098/2139] - arabic6.mp3\n[2099/2139] - tagalog12.mp3\n[2100/2139] - synthesized3.mp3\n[2101/2139] - albanian1.mp3\n[2102/2139] - french6.mp3\n[2103/2139] - garifuna1.mp3\n[2104/2139] - macedonian23.mp3\n[2105/2139] - tagalog7.mp3\n[2106/2139] - english198.mp3\n[2107/2139] - russian48.mp3\n[2108/2139] - finnish2.mp3\n[2109/2139] - wolof5.mp3\n[2110/2139] - serbian7.mp3\n[2111/2139] - polish25.mp3\n[2112/2139] - wu1.mp3\n[2113/2139] - romanian16.mp3\n[2114/2139] - polish31.mp3\n[2115/2139] - hungarian6.mp3\n[2116/2139] - hindi17.mp3\n[2117/2139] - polish19.mp3\n[2118/2139] - punjabi8.mp3\n[2119/2139] - english173.mp3\n[2120/2139] - english167.mp3\n[2121/2139] - gujarati5.mp3\n[2122/2139] - spanish104.mp3\n[2123/2139] - pashto5.mp3\n[2124/2139] - spanish110.mp3\n[2125/2139] - spanish138.mp3\n[2126/2139] - urdu2.mp3\n[2127/2139] - bulgarian3.mp3\n[2128/2139] - english359.mp3\n[2129/2139] - dari1.mp3\n[2130/2139] - mandarin21.mp3\n[2131/2139] - english371.mp3\n[2132/2139] - arabic27.mp3\n[2133/2139] - english417.mp3\n[2134/2139] - italian13.mp3\n[2135/2139] - english403.mp3\n[2136/2139] - english365.mp3\n[2137/2139] - farsi23.mp3\n[2138/2139] - arabic33.mp3\n[2139/2139] - mandarin35.mp3\n"
    }
   ],
   "source": [
    "def cheat_create_and_store_mfcc(dir):\n",
    "    mfcc_dir = dir.replace('audio', 'mfcc')\n",
    "    Path(mfcc_dir).mkdir(parents=True, exist_ok=True)\n",
    "\n",
    "    files = os.listdir(dir)\n",
    "\n",
    "    for i, audio_file in enumerate(files):\n",
    "        if 'mp3' not in audio_file:\n",
    "            continue\n",
    "        mfcc = sample_from_mfcc(read_mfcc(f'{dir}/{audio_file}', SAMPLE_RATE), NUM_FRAMES)\n",
    "        predict = model.m.predict(np.expand_dims(mfcc, axis=0))\n",
    "        new_clip_name = audio_file.replace('mp3', 'npy')\n",
    "        np.save(f'{mfcc_dir}/{new_clip_name}', predict)\n",
    "\n",
    "        print(f'[{i + 1}/{len(files)}] - {audio_file}')\n",
    "\n",
    "cheat_create_and_store_mfcc('audio/split/Accents')"
   ]
  },
  {
   "cell_type": "code",
   "execution_count": 20,
   "metadata": {
    "tags": [
     "outputPrepend"
    ]
   },
   "outputs": [
    {
     "output_type": "stream",
     "name": "stdout",
     "text": " - pashto5\n[1301/2138] - romanian15\n[1302/2138] - english78\n[1303/2138] - spanish33\n[1304/2138] - arabic43\n[1305/2138] - macedonian5\n[1306/2138] - english129\n[1307/2138] - english575\n[1308/2138] - cantonese12\n[1309/2138] - mandarin33\n[1310/2138] - pashto2\n[1311/2138] - tatar1\n[1312/2138] - english323\n[1313/2138] - english111\n[1314/2138] - macedonian11\n[1315/2138] - baga1\n[1316/2138] - urdu4\n[1317/2138] - portuguese13\n[1318/2138] - english40\n[1319/2138] - macedonian2\n[1320/2138] - spanish34\n[1321/2138] - arabic44\n[1322/2138] - romanian12\n[1323/2138] - english315\n[1324/2138] - english127\n[1325/2138] - english543\n[1326/2138] - english82\n[1327/2138] - zulu1\n[1328/2138] - bai1\n[1329/2138] - english76\n[1330/2138] - portuguese25\n[1331/2138] - arabic86\n[1332/2138] - polish3\n[1333/2138] - greek7\n[1334/2138] - english118\n[1335/2138] - macedonian18\n[1336/2138] - arabic72\n[1337/2138] - english49\n[1338/2138] - arabic9\n[1339/2138] - turkish6\n[1340/2138] - macedonian20\n[1341/2138] - english71\n[1342/2138] - portuguese22\n[1343/2138] - english85\n[1344/2138] - cantonese23\n[1345/2138] - english544\n[1346/2138] - english120\n[1347/2138] - english312\n[1348/2138] - turkish1\n[1349/2138] - arabic75\n[1350/2138] - polish4\n[1351/2138] - mende3\n[1352/2138] - arabic81\n[1353/2138] - arabic21\n[1354/2138] - spanish51\n[1355/2138] - latvian2\n[1356/2138] - english379\n[1357/2138] - english180\n[1358/2138] - amharic12\n[1359/2138] - english25\n[1360/2138] - mandarin56\n[1361/2138] - english510\n[1362/2138] - miskito11\n[1363/2138] - english346\n[1364/2138] - farsi14\n[1365/2138] - english174\n[1366/2138] - synthesized2\n[1367/2138] - english528\n[1368/2138] - azerbaijani3\n[1369/2138] - arabic26\n[1370/2138] - spanish56\n[1371/2138] - farsi13\n[1372/2138] - english173\n[1373/2138] - tajiki2\n[1374/2138] - english341\n[1375/2138] - catalan1\n[1376/2138] - mandarin51\n[1377/2138] - english517\n[1378/2138] - arabic19\n[1379/2138] - spanish69\n[1380/2138] - english22\n[1381/2138] - belarusan1\n[1382/2138] - english187\n[1383/2138] - amharic15\n[1384/2138] - english348\n[1385/2138] - mandarin58\n[1386/2138] - spanish94\n[1387/2138] - arabic10\n[1388/2138] - spanish60\n[1389/2138] - kru1\n[1390/2138] - taishan1\n[1391/2138] - english521\n[1392/2138] - english145\n[1393/2138] - english377\n[1394/2138] - russian34\n[1395/2138] - malayalam2\n[1396/2138] - lithuanian3\n[1397/2138] - english383\n[1398/2138] - english14\n[1399/2138] - papiamentu1\n[1400/2138] - turkish34\n[1401/2138] - portuguese47\n[1402/2138] - english189\n[1403/2138] - arabic17\n[1404/2138] - spanish67\n[1405/2138] - spanish93\n[1406/2138] - english519\n[1407/2138] - english13\n[1408/2138] - turkish33\n[1409/2138] - arabic28\n[1410/2138] - portuguese40\n[1411/2138] - spanish58\n[1412/2138] - english384\n[1413/2138] - russian33\n[1414/2138] - lithuanian4\n[1415/2138] - english370\n[1416/2138] - farsi22\n[1417/2138] - english142\n[1418/2138] - mandarin60\n[1419/2138] - english526\n[1420/2138] - english545\n[1421/2138] - cantonese22\n[1422/2138] - english84\n[1423/2138] - gusii1\n[1424/2138] - english313\n[1425/2138] - english121\n[1426/2138] - macedonian21\n[1427/2138] - english70\n[1428/2138] - portuguese23\n[1429/2138] - arabic80\n[1430/2138] - greek1\n[1431/2138] - mende2\n[1432/2138] - polish5\n[1433/2138] - arabic74\n[1434/2138] - english77\n[1435/2138] - portuguese24\n[1436/2138] - macedonian26\n[1437/2138] - english126\n[1438/2138] - english314\n[1439/2138] - english83\n[1440/2138] - english542\n[1441/2138] - macedonian19\n[1442/2138] - arabic8\n[1443/2138] - turkish7\n[1444/2138] - arabic73\n[1445/2138] - english48\n[1446/2138] - greek6\n[1447/2138] - polish2\n[1448/2138] - arabic87\n[1449/2138] - english119\n[1450/2138] - macedonian10\n[1451/2138] - urdu5\n[1452/2138] - portuguese12\n[1453/2138] - english41\n[1454/2138] - arabic1\n[1455/2138] - mandarin32\n[1456/2138] - cantonese13\n[1457/2138] - english574\n[1458/2138] - pashto3\n[1459/2138] - english110\n[1460/2138] - tamil1\n[1461/2138] - english322\n[1462/2138] - arabic45\n[1463/2138] - spanish35\n[1464/2138] - romanian13\n[1465/2138] - macedonian3\n[1466/2138] - tamil6\n[1467/2138] - english325\n[1468/2138] - english117\n[1469/2138] - mandarin35\n[1470/2138] - greek8\n[1471/2138] - english573\n[1472/2138] - cantonese14\n[1473/2138] - pashto4\n[1474/2138] - arabic89\n[1475/2138] - arabic6\n[1476/2138] - turkish9\n[1477/2138] - portuguese15\n[1478/2138] - english46\n[1479/2138] - macedonian17\n[1480/2138] - urdu2\n[1481/2138] - macedonian4\n[1482/2138] - english128\n[1483/2138] - romanian14\n[1484/2138] - english79\n[1485/2138] - arabic42\n[1486/2138] - spanish32\n[1487/2138] - english518\n[1488/2138] - spanish92\n[1489/2138] - english188\n[1490/2138] - spanish66\n[1491/2138] - arabic16\n[1492/2138] - english143\n[1493/2138] - farsi23\n[1494/2138] - english371\n[1495/2138] - ganda2\n[1496/2138] - english527\n[1497/2138] - mandarin61\n[1498/2138] - turkish32\n[1499/2138] - english12\n[1500/2138] - portuguese41\n[1501/2138] - spanish59\n[1502/2138] - arabic29\n[1503/2138] - malayalam4\n[1504/2138] - russian32\n[1505/2138] - amazigh1\n[1506/2138] - lithuanian5\n[1507/2138] - english385\n[1508/2138] - bari2\n[1509/2138] - spanish61\n[1510/2138] - arabic11\n[1511/2138] - tswana2\n[1512/2138] - english349\n[1513/2138] - spanish95\n[1514/2138] - mandarin59\n[1515/2138] - english382\n[1516/2138] - malayalam3\n[1517/2138] - russian35\n[1518/2138] - lithuanian2\n[1519/2138] - turkish35\n[1520/2138] - english15\n[1521/2138] - portuguese46\n[1522/2138] - english520\n[1523/2138] - english376\n[1524/2138] - english144\n[1525/2138] - spanish57\n[1526/2138] - arabic27\n[1527/2138] - english529\n[1528/2138] - azerbaijani2\n[1529/2138] - spanish68\n[1530/2138] - arabic18\n[1531/2138] - english23\n[1532/2138] - english186\n[1533/2138] - amharic14\n[1534/2138] - english340\n[1535/2138] - tajiki3\n[1536/2138] - english172\n[1537/2138] - farsi12\n[1538/2138] - synthesized4\n[1539/2138] - english516\n[1540/2138] - mandarin50\n[1541/2138] - english378\n[1542/2138] - pulaar1\n[1543/2138] - spanish50\n[1544/2138] - portuguese48\n[1545/2138] - arabic20\n[1546/2138] - latvian3\n[1547/2138] - miskito10\n[1548/2138] - english511\n[1549/2138] - mandarin57\n[1550/2138] - english175\n[1551/2138] - farsi15\n[1552/2138] - synthesized3\n[1553/2138] - english347\n[1554/2138] - english181\n[1555/2138] - amharic13\n[1556/2138] - english24\n[1557/2138] - portuguese7\n[1558/2138] - english365\n[1559/2138] - english157\n[1560/2138] - hindko1\n[1561/2138] - nepali12\n[1562/2138] - nepali7\n[1563/2138] - korean1\n[1564/2138] - english533\n[1565/2138] - cantonese2\n[1566/2138] - turkish26\n[1567/2138] - fijian3\n[1568/2138] - english391\n[1569/2138] - yupik1\n[1570/2138] - romanian9\n[1571/2138] - russian26\n[1572/2138] - spanish86\n[1573/2138] - english168\n[1574/2138] - russian19\n[1575/2138] - bavarian1\n[1576/2138] - turkish19\n[1577/2138] - english39\n[1578/2138] - spanish72\n[1579/2138] - russian21\n[1580/2138] - italian8\n[1581/2138] - english396\n[1582/2138] - turkish21\n[1583/2138] - cantonese5\n[1584/2138] - english534\n[1585/2138] - english150\n[1586/2138] - temne1\n[1587/2138] - korean6\n[1588/2138] - english362\n[1589/2138] - indonesian8\n[1590/2138] - spanish75\n[1591/2138] - rundi1\n[1592/2138] - spanish81\n[1593/2138] - turkish17\n[1594/2138] - english37\n[1595/2138] - indonesian1\n[1596/2138] - russian17\n[1597/2138] - english192\n[1598/2138] - norwegian5\n[1599/2138] - english166\n[1600/2138] - english354\n[1601/2138] - basque2\n[1602/2138] - danish5\n[1603/2138] - spanish88\n[1604/2138] - english502\n[1605/2138] - mandarin44\n[1606/2138] - italian1\n[1607/2138] - bafang2\n[1608/2138] - russian28\n[1609/2138] - romanian7\n[1610/2138] - spanish43\n[1611/2138] - malay5\n[1612/2138] - arabic33\n[1613/2138] - turkish28\n[1614/2138] - swedish3\n[1615/2138] - vietnamese2\n[1616/2138] - japanese2\n[1617/2138] - portuguese9\n[1618/2138] - miskito5\n[1619/2138] - english159\n[1620/2138] - nepali9\n[1621/2138] - english505\n[1622/2138] - mandarin43\n[1623/2138] - danish2\n[1624/2138] - english353\n[1625/2138] - norwegian2\n[1626/2138] - english161\n[1627/2138] - naxi1\n[1628/2138] - russian10\n[1629/2138] - english195\n[1630/2138] - turkish10\n[1631/2138] - english30\n[1632/2138] - indonesian6\n[1633/2138] - korean8\n[1634/2138] - miskito2\n[1635/2138] - swedish4\n[1636/2138] - sesotho1\n[1637/2138] - vietnamese5\n[1638/2138] - japanese5\n[1639/2138] - spanish44\n[1640/2138] - malay2\n[1641/2138] - arabic34\n[1642/2138] - italian6\n[1643/2138] - english398\n[1644/2138] - english338\n[1645/2138] - sicilian1\n[1646/2138] - slovak4\n[1647/2138] - hebrew4\n[1648/2138] - mandarin28\n[1649/2138] - arabic94\n[1650/2138] - mandarin6\n[1651/2138] - arabic60\n[1652/2138] - spanish10\n[1653/2138] - tagalog3\n[1654/2138] - thai12\n[1655/2138] - english90\n[1656/2138] - yiddish3\n[1657/2138] - mandarin17\n[1658/2138] - english551\n[1659/2138] - serbian15\n[1660/2138] - english135\n[1661/2138] - twi6\n[1662/2138] - english307\n[1663/2138] - russian44\n[1664/2138] - portuguese37\n[1665/2138] - english64\n[1666/2138] - bulgarian16\n[1667/2138] - tagalog4\n[1668/2138] - thai15\n[1669/2138] - gujarati8\n[1670/2138] - mandarin1\n[1671/2138] - arabic67\n[1672/2138] - spanish17\n[1673/2138] - arabic93\n[1674/2138] - hebrew3\n[1675/2138] - english569\n[1676/2138] - slovak3\n[1677/2138] - arabic58\n[1678/2138] - satawalese2\n[1679/2138] - spanish28\n[1680/2138] - portuguese30\n[1681/2138] - english63\n[1682/2138] - bulgarian11\n[1683/2138] - russian43\n[1684/2138] - english300\n[1685/2138] - serbian12\n[1686/2138] - english132\n[1687/2138] - bulgarian7\n[1688/2138] - twi1\n[1689/2138] - hausa8\n[1690/2138] - mandarin10\n[1691/2138] - english556\n[1692/2138] - english97\n[1693/2138] - yiddish4\n[1694/2138] - arabic51\n[1695/2138] - portuguese39\n[1696/2138] - spanish21\n[1697/2138] - bulgarian18\n[1698/2138] - xiang2\n[1699/2138] - english309\n[1700/2138] - mandarin19\n[1701/2138] - hausa1\n[1702/2138] - gujarati1\n[1703/2138] - fanti2\n[1704/2138] - bengali5\n[1705/2138] - english55\n[1706/2138] - mandarin8\n[1707/2138] - mandarin26\n[1708/2138] - english560\n[1709/2138] - english336\n[1710/2138] - dutch2\n[1711/2138] - english104\n[1712/2138] - hausa6\n[1713/2138] - english558\n[1714/2138] - english99\n[1715/2138] - bulgarian9\n[1716/2138] - arabic56\n[1717/2138] - spanish26\n[1718/2138] - dutch5\n[1719/2138] - english103\n[1720/2138] - english331\n[1721/2138] - moba1\n[1722/2138] - irish1\n[1723/2138] - chamorro1\n[1724/2138] - mandarin21\n[1725/2138] - english567\n[1726/2138] - english52\n[1727/2138] - kazakh3\n[1728/2138] - arabic69\n[1729/2138] - spanish19\n[1730/2138] - bengali2\n[1731/2138] - gujarati6\n[1732/2138] - russian11\n[1733/2138] - english194\n[1734/2138] - english31\n[1735/2138] - indonesian7\n[1736/2138] - turkish11\n[1737/2138] - danish3\n[1738/2138] - mandarin42\n[1739/2138] - english504\n[1740/2138] - norwegian3\n[1741/2138] - english160\n[1742/2138] - english352\n[1743/2138] - malay3\n[1744/2138] - arabic35\n[1745/2138] - spanish45\n[1746/2138] - italian7\n[1747/2138] - english399\n[1748/2138] - romanian1\n[1749/2138] - miskito3\n[1750/2138] - sundanese1\n[1751/2138] - korean9\n[1752/2138] - agni1\n[1753/2138] - chaldean2\n[1754/2138] - japanese4\n[1755/2138] - swedish5\n[1756/2138] - vietnamese4\n[1757/2138] - english355\n[1758/2138] - norwegian4\n[1759/2138] - english167\n[1760/2138] - mandarin45\n[1761/2138] - english503\n[1762/2138] - danish4\n[1763/2138] - spanish89\n[1764/2138] - english36\n[1765/2138] - turkish16\n[1766/2138] - russian16\n[1767/2138] - english193\n[1768/2138] - japanese3\n[1769/2138] - swedish2\n[1770/2138] - vietnamese3\n[1771/2138] - dinka1\n[1772/2138] - nepali8\n[1773/2138] - english158\n[1774/2138] - miskito4\n[1775/2138] - kanuri1\n[1776/2138] - portuguese8\n[1777/2138] - romanian6\n[1778/2138] - russian29\n[1779/2138] - malay4\n[1780/2138] - arabic32\n[1781/2138] - spanish42\n[1782/2138] - turkish29\n[1783/2138] - english535\n[1784/2138] - portuguese1\n[1785/2138] - english363\n[1786/2138] - nepali1\n[1787/2138] - english151\n[1788/2138] - korean7\n[1789/2138] - italian9\n[1790/2138] - english397\n[1791/2138] - russian20\n[1792/2138] - garifuna1\n[1793/2138] - cantonese4\n[1794/2138] - turkish20\n[1795/2138] - spanish80\n[1796/2138] - maltese1\n[1797/2138] - spanish74\n[1798/2138] - fijian2\n[1799/2138] - turkish27\n[1800/2138] - cantonese3\n[1801/2138] - russian27\n[1802/2138] - romanian8\n[1803/2138] - english390\n[1804/2138] - nepali13\n[1805/2138] - nepali6\n[1806/2138] - english156\n[1807/2138] - portuguese6\n[1808/2138] - english364\n[1809/2138] - english532\n[1810/2138] - russian18\n[1811/2138] - english38\n[1812/2138] - turkish18\n[1813/2138] - spanish73\n[1814/2138] - spanish87\n[1815/2138] - english169\n[1816/2138] - spanish27\n[1817/2138] - arabic57\n[1818/2138] - xiang4\n[1819/2138] - english98\n[1820/2138] - english559\n[1821/2138] - hausa7\n[1822/2138] - bulgarian8\n[1823/2138] - bengali3\n[1824/2138] - kazakh2\n[1825/2138] - english53\n[1826/2138] - spanish18\n[1827/2138] - arabic68\n[1828/2138] - gujarati7\n[1829/2138] - english330\n[1830/2138] - english102\n[1831/2138] - dutch4\n[1832/2138] - english566\n[1833/2138] - mandarin20\n[1834/2138] - english308\n[1835/2138] - mandarin18\n[1836/2138] - xiang3\n[1837/2138] - sylheti1\n[1838/2138] - portuguese38\n[1839/2138] - spanish20\n[1840/2138] - arabic50\n[1841/2138] - english561\n[1842/2138] - mandarin27\n[1843/2138] - english105\n[1844/2138] - dutch3\n[1845/2138] - english337\n[1846/2138] - english54\n[1847/2138] - mandarin9\n[1848/2138] - fanti3\n[1849/2138] - bengali4\n[1850/2138] - hebrew2\n[1851/2138] - english568\n[1852/2138] - arabic92\n[1853/2138] - slovak2\n[1854/2138] - gujarati9\n[1855/2138] - thai14\n[1856/2138] - tagalog5\n[1857/2138] - luo1\n[1858/2138] - spanish16\n[1859/2138] - arabic66\n[1860/2138] - english133\n[1861/2138] - serbian13\n[1862/2138] - bulgarian6\n[1863/2138] - english301\n[1864/2138] - yiddish5\n[1865/2138] - english96\n[1866/2138] - english557\n[1867/2138] - hausa9\n[1868/2138] - mandarin11\n[1869/2138] - spanish29\n[1870/2138] - portuguese31\n[1871/2138] - arabic59\n[1872/2138] - bulgarian10\n[1873/2138] - english62\n[1874/2138] - burmese2\n[1875/2138] - russian42\n[1876/2138] - spanish11\n[1877/2138] - mandarin7\n[1878/2138] - arabic61\n[1879/2138] - thai13\n[1880/2138] - tagalog2\n[1881/2138] - slovak5\n[1882/2138] - english339\n[1883/2138] - arabic95\n[1884/2138] - telugu2\n[1885/2138] - hebrew5\n[1886/2138] - mandarin29\n[1887/2138] - russian45\n[1888/2138] - portuguese36\n[1889/2138] - bulgarian17\n[1890/2138] - english65\n[1891/2138] - english550\n[1892/2138] - mandarin16\n[1893/2138] - yiddish2\n[1894/2138] - english91\n[1895/2138] - english306\n[1896/2138] - english134\n[1897/2138] - serbian14\n[1898/2138] - bulgarian1\n[1899/2138] - french60\n[1900/2138] - english274\n[1901/2138] - hindi9\n[1902/2138] - bosnian3\n[1903/2138] - english422\n[1904/2138] - vietnamese10\n[1905/2138] - japanese25\n[1906/2138] - english280\n[1907/2138] - kiswahili1\n[1908/2138] - dutch41\n[1909/2138] - punjabi3\n[1910/2138] - spanish162\n[1911/2138] - punjabi10\n[1912/2138] - gan1\n[1913/2138] - kiswahili6\n[1914/2138] - english287\n[1915/2138] - japanese22\n[1916/2138] - amharic9\n[1917/2138] - korean49\n[1918/2138] - english425\n[1919/2138] - vietnamese17\n[1920/2138] - bosnian4\n[1921/2138] - english273\n[1922/2138] - quechua1\n[1923/2138] - french58\n[1924/2138] - dutch46\n[1925/2138] - punjabi4\n[1926/2138] - japanese14\n[1927/2138] - english4\n[1928/2138] - krio4\n[1929/2138] - kambaata3\n[1930/2138] - rwanda1\n[1931/2138] - french51\n[1932/2138] - english245\n[1933/2138] - cebuano1\n[1934/2138] - vietnamese21\n[1935/2138] - english413\n[1936/2138] - korean40\n[1937/2138] - polish32\n[1938/2138] - icelandic2\n[1939/2138] - spanish153\n[1940/2138] - hindi7\n[1941/2138] - english414\n[1942/2138] - french56\n[1943/2138] - english242\n[1944/2138] - krio3\n[1945/2138] - english3\n[1946/2138] - japanese13\n[1947/2138] - spanish154\n[1948/2138] - vietnamese19\n[1949/2138] - amharic7\n[1950/2138] - korean47\n[1951/2138] - kiswahili8\n[1952/2138] - english289\n[1953/2138] - english229\n[1954/2138] - spanish100\n[1955/2138] - dutch23\n[1956/2138] - korean13\n[1957/2138] - albanian5\n[1958/2138] - somali5\n[1959/2138] - thai4\n[1960/2138] - czech5\n[1961/2138] - greek11\n[1962/2138] - german23\n[1963/2138] - english440\n[1964/2138] - german1\n[1965/2138] - english216\n[1966/2138] - thai3\n[1967/2138] - czech2\n[1968/2138] - hungarian7\n[1969/2138] - somali2\n[1970/2138] - korean14\n[1971/2138] - albanian2\n[1972/2138] - lamotrekese1\n[1973/2138] - fataluku1\n[1974/2138] - english478\n[1975/2138] - dutch24\n[1976/2138] - spanish107\n[1977/2138] - hindi18\n[1978/2138] - spanish138\n[1979/2138] - german6\n[1980/2138] - english211\n[1981/2138] - english447\n[1982/2138] - german24\n[1983/2138] - korean22\n[1984/2138] - swedish15\n[1985/2138] - akan1\n[1986/2138] - hindi11\n[1987/2138] - dutch12\n[1988/2138] - italian30\n[1989/2138] - spanish131\n[1990/2138] - spanish2\n[1991/2138] - english218\n[1992/2138] - lao2\n[1993/2138] - bengali13\n[1994/2138] - bambara1\n[1995/2138] - english485\n[1996/2138] - english471\n[1997/2138] - kikuyu1\n[1998/2138] - german12\n[1999/2138] - english227\n[2000/2138] - french33\n[2001/2138] - english449\n[2002/2138] - spanish136\n[2003/2138] - spanish5\n[2004/2138] - german8\n[2005/2138] - dutch15\n[2006/2138] - hindi16\n[2007/2138] - uzbek1\n[2008/2138] - swedish12\n[2009/2138] - korean25\n[2010/2138] - english220\n[2011/2138] - french34\n[2012/2138] - spanish109\n[2013/2138] - marathi1\n[2014/2138] - german15\n[2015/2138] - moore1\n[2016/2138] - english476\n[2017/2138] - english482\n[2018/2138] - bengali14\n[2019/2138] - hungarian9\n[2020/2138] - krio2\n[2021/2138] - japanese12\n[2022/2138] - english2\n[2023/2138] - english415\n[2024/2138] - english243\n[2025/2138] - french57\n[2026/2138] - korean46\n[2027/2138] - amharic6\n[2028/2138] - english288\n[2029/2138] - kiswahili9\n[2030/2138] - spanish155\n[2031/2138] - hindi1\n[2032/2138] - carolinian1\n[2033/2138] - vietnamese18\n[2034/2138] - polish34\n[2035/2138] - english244\n[2036/2138] - french50\n[2037/2138] - vietnamese20\n[2038/2138] - english412\n[2039/2138] - english5\n[2040/2138] - mandingo1\n[2041/2138] - japanese15\n[2042/2138] - kambaata2\n[2043/2138] - krio5\n[2044/2138] - polish33\n[2045/2138] - spanish152\n[2046/2138] - icelandic3\n[2047/2138] - hindi6\n[2048/2138] - korean41\n[2049/2138] - amharic1\n[2050/2138] - english424\n[2051/2138] - vietnamese16\n[2052/2138] - english272\n[2053/2138] - bosnian5\n[2054/2138] - afrikaans1\n[2055/2138] - english286\n[2056/2138] - kiswahili7\n[2057/2138] - korean48\n[2058/2138] - japanese23\n[2059/2138] - amharic8\n[2060/2138] - dutch47\n[2061/2138] - punjabi5\n[2062/2138] - french59\n[2063/2138] - arabic102\n[2064/2138] - shona1\n[2065/2138] - japanese24\n[2066/2138] - english281\n[2067/2138] - bosnian2\n[2068/2138] - hindi8\n[2069/2138] - english275\n[2070/2138] - french61\n[2071/2138] - mauritian1\n[2072/2138] - english423\n[2073/2138] - vietnamese11\n[2074/2138] - gedeo1\n[2075/2138] - dutch40\n[2076/2138] - punjabi2\n[2077/2138] - hindi17\n[2078/2138] - korean24\n[2079/2138] - swedish13\n[2080/2138] - jola1\n[2081/2138] - english448\n[2082/2138] - dutch14\n[2083/2138] - spanish4\n[2084/2138] - spanish137\n[2085/2138] - german9\n[2086/2138] - english483\n[2087/2138] - ewe1\n[2088/2138] - hungarian8\n[2089/2138] - bengali15\n[2090/2138] - french35\n[2091/2138] - english221\n[2092/2138] - spanish108\n[2093/2138] - english477\n[2094/2138] - german14\n[2095/2138] - spanish3\n[2096/2138] - spanish130\n[2097/2138] - english219\n[2098/2138] - italian31\n[2099/2138] - dutch13\n[2100/2138] - lao3\n[2101/2138] - swedish14\n[2102/2138] - korean23\n[2103/2138] - hindi10\n[2104/2138] - german13\n[2105/2138] - english470\n[2106/2138] - french32\n[2107/2138] - english226\n[2108/2138] - bengali12\n[2109/2138] - english484\n[2110/2138] - ngemba2\n[2111/2138] - english479\n[2112/2138] - spanish106\n[2113/2138] - dutch25\n[2114/2138] - hungarian6\n[2115/2138] - somali3\n[2116/2138] - czech3\n[2117/2138] - thai2\n[2118/2138] - korean15\n[2119/2138] - albanian3\n[2120/2138] - spanish139\n[2121/2138] - german7\n[2122/2138] - english210\n[2123/2138] - german25\n[2124/2138] - english446\n[2125/2138] - korean12\n[2126/2138] - albanian4\n[2127/2138] - czech4\n[2128/2138] - greek10\n[2129/2138] - slovenian1\n[2130/2138] - thai5\n[2131/2138] - hungarian1\n[2132/2138] - somali4\n[2133/2138] - dutch22\n[2134/2138] - english228\n[2135/2138] - spanish101\n[2136/2138] - english441\n[2137/2138] - german22\n[2138/2138] - english217\n"
    }
   ],
   "source": [
    "def create_and_store_mfcc(dir):\n",
    "    mfcc_dir = dir.replace('audio', 'mfcc')\n",
    "    Path(mfcc_dir).mkdir(parents=True, exist_ok=True)\n",
    "\n",
    "    speakers = [f for f in os.listdir(dir) if f != '.DS_Store']\n",
    "\n",
    "\n",
    "    for i, speaker in enumerate(speakers):\n",
    "        Path(f'{mfcc_dir}/{speaker}').mkdir(parents=True, exist_ok=True)\n",
    "        speaker_paths = os.listdir(f'{dir}/{speaker}')\n",
    "\n",
    "        for j, clip in enumerate(speaker_paths):\n",
    "            if 'wav' not in clip:\n",
    "                continue\n",
    "            mfcc = sample_from_mfcc(read_mfcc(f'{dir}/{speaker}/{clip}', SAMPLE_RATE), NUM_FRAMES)\n",
    "            predict = model.m.predict(np.expand_dims(mfcc, axis=0))\n",
    "            new_clip_name = clip.replace('wav', 'npy')\n",
    "            np.save(f'{mfcc_dir}/{speaker}/{new_clip_name}', predict)\n",
    "\n",
    "        print(f'[{i + 1}/{len(speakers)}] - {speaker}')\n",
    "\n",
    "create_and_store_mfcc('audio/split/Accents')"
   ]
  },
  {
   "cell_type": "code",
   "execution_count": 22,
   "metadata": {},
   "outputs": [],
   "source": [
    "def combine_audio(first_path, second_path, destination_path, background_noise_amplitude=None):\n",
    "    sound_1 = AudioSegment.from_file(first_path)\n",
    "    sound_2 = AudioSegment.from_file(second_path)\n",
    "\n",
    "    if background_noise_amplitude != None:\n",
    "        sound_2 = match_target_amplitude(sound_2, background_noise_amplitude)\n",
    "    \n",
    "    combined = sound_1.overlay(sound_2)\n",
    "    \n",
    "    combined.export(destination_path, format='wav')"
   ]
  },
  {
   "cell_type": "code",
   "execution_count": 23,
   "metadata": {},
   "outputs": [],
   "source": [
    "import random\n",
    "\n",
    "def add_noise(path, output_path, background_noise_amplitude=-20):\n",
    "    # by default, use the same background noise all the time\n",
    "    combine_audio(path,\n",
    "                      f'audio/split/BackgroundNoise/kitchen/BackgroundNoise_1.wav',\n",
    "                      output_path,\n",
    "                      background_noise_amplitude=background_noise_amplitude)"
   ]
  },
  {
   "cell_type": "code",
   "execution_count": 24,
   "metadata": {},
   "outputs": [],
   "source": [
    "def create_noisy(input_subject):\n",
    "    \"\"\"Given the path to a single subject in SherlockHolmes, generate copies of\n",
    "    the clip with background noise of level x dB where x is from [-30, 0] inclusive\n",
    "    in steps of 2\"\"\"\n",
    "\n",
    "    subject_path = f'audio/split/SherlockHolmes/{input_subject}'\n",
    "\n",
    "    clips = [f for f in os.listdir(subject_path) if f != '.DS_Store']\n",
    "\n",
    "\n",
    "    for i in range(len(clips)):\n",
    "        for amplitude in range(-30, -10, 2):\n",
    "            output_path = f'{subject_path}/noisy_{amplitude}_{i}.wav'\n",
    "\n",
    "            try:\n",
    "                add_noise(f'{subject_path}/SherlockHolmes_{i}.wav', output_path, background_noise_amplitude=amplitude)\n",
    "\n",
    "            except Exception as e:\n",
    "                print(e)\n",
    "                pass\n"
   ]
  },
  {
   "cell_type": "code",
   "execution_count": 25,
   "metadata": {
    "tags": []
   },
   "outputs": [
    {
     "output_type": "stream",
     "name": "stdout",
     "text": "mikie\nhailey\ncrystal\nmei\nchanghan\ndaphne\nswadhin\nstephanie\ncheryl\nchad\nethan\n"
    }
   ],
   "source": [
    "dir = 'audio/split/SherlockHolmes'\n",
    "\n",
    "classes = [f for f in os.listdir(dir) if f != '.DS_Store']\n",
    "\n",
    "for subject in classes:\n",
    "    print(subject)\n",
    "    create_noisy(subject)"
   ]
  },
  {
   "cell_type": "code",
   "execution_count": 26,
   "metadata": {},
   "outputs": [],
   "source": [
    "def combine_two_speakers(subject_one, subject_two):\n",
    "    \"\"\"Given the path to two audio files, combine then into an audio file\"\"\"\n",
    "\n",
    "    subject_one_path = f'audio/split/SherlockHolmes/{subject_one}'\n",
    "    subject_two_path = f'audio/split/SherlockHolmes/{subject_two}'\n",
    "\n",
    "    combined_path = f'audio/combined/SherlockHolmes/{subject_one}_{subject_two}'\n",
    "    Path(combined_path).mkdir(parents=True, exist_ok=True)\n",
    "\n",
    "    for i in range(1, 8):\n",
    "        path_one = subject_one_path + f'/{i}.wav'\n",
    "        path_two = subject_two_path + f'/{i}.wav'\n",
    "\n",
    "        combined = combined_path + f'/{i}.wav'\n",
    "\n",
    "        combine_audio(path_one, path_two, combined)"
   ]
  },
  {
   "cell_type": "code",
   "execution_count": null,
   "metadata": {},
   "outputs": [],
   "source": []
  }
 ],
 "metadata": {
  "kernelspec": {
   "display_name": "deep-speaker",
   "language": "python",
   "name": "deep-speaker"
  },
  "language_info": {
   "codemirror_mode": {
    "name": "ipython",
    "version": 3
   },
   "file_extension": ".py",
   "mimetype": "text/x-python",
   "name": "python",
   "nbconvert_exporter": "python",
   "pygments_lexer": "ipython3",
   "version": "3.8.5-final"
  }
 },
 "nbformat": 4,
 "nbformat_minor": 4
}