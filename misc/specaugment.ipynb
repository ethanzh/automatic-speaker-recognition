{
 "metadata": {
  "language_info": {
   "codemirror_mode": {
    "name": "ipython",
    "version": 3
   },
   "file_extension": ".py",
   "mimetype": "text/x-python",
   "name": "python",
   "nbconvert_exporter": "python",
   "pygments_lexer": "ipython3",
   "version": "3.8.5-final"
  },
  "orig_nbformat": 2,
  "kernelspec": {
   "name": "Python 3.8.5 64-bit ('venv')",
   "display_name": "Python 3.8.5 64-bit ('venv')",
   "metadata": {
    "interpreter": {
     "hash": "89b1de9c9eff3a99891b06a3f14a8dfa90e49b5ddc6450870190f7f479004b7e"
    }
   }
  }
 },
 "nbformat": 4,
 "nbformat_minor": 2,
 "cells": [
  {
   "cell_type": "code",
   "execution_count": 1,
   "metadata": {
    "tags": []
   },
   "outputs": [
    {
     "output_type": "stream",
     "name": "stderr",
     "text": "Using TensorFlow backend.\n"
    }
   ],
   "source": [
    "import librosa\n",
    "from SpecAugment import spec_augment_pytorch\n",
    "import os\n",
    "from pathlib import Path\n",
    "from math import ceil\n",
    "from pydub import AudioSegment\n",
    "\n",
    "import os\n",
    "import sys\n",
    "import numpy as np\n",
    "import random\n",
    "from audio import read_mfcc\n",
    "from batcher import sample_from_mfcc\n",
    "from constants import SAMPLE_RATE, NUM_FRAMES\n",
    "from conv_models import DeepSpeakerModel\n",
    "from test import batch_cosine_similarity\n",
    "import tensorflow as tf\n",
    "import logging\n",
    "import matplotlib.pyplot as plt\n",
    "from tabulate import tabulate\n",
    "from torch.utils.data import Dataset"
   ]
  },
  {
   "cell_type": "code",
   "execution_count": 31,
   "metadata": {},
   "outputs": [],
   "source": [
    "audio_path = '/Users/ethanzh/Code/automatic-speaker-recognition/audio/split/SherlockHolmes/ethan/SherlockHolmes_1.wav'"
   ]
  },
  {
   "cell_type": "code",
   "execution_count": 32,
   "metadata": {},
   "outputs": [
    {
     "output_type": "execute_result",
     "data": {
      "text/plain": "(962, 64)"
     },
     "metadata": {},
     "execution_count": 32
    }
   ],
   "source": [
    "raw_mfcc = read_mfcc(audio_path, SAMPLE_RATE)\n",
    "raw_mfcc.shape"
   ]
  },
  {
   "cell_type": "code",
   "execution_count": 33,
   "metadata": {},
   "outputs": [
    {
     "output_type": "execute_result",
     "data": {
      "text/plain": "(160, 64, 1)"
     },
     "metadata": {},
     "execution_count": 33
    }
   ],
   "source": [
    "sampled_mfcc = sample_from_mfcc(raw_mfcc, NUM_FRAMES)\n",
    "sampled_mfcc.shape"
   ]
  },
  {
   "cell_type": "code",
   "execution_count": 18,
   "metadata": {},
   "outputs": [],
   "source": [
    "model = DeepSpeakerModel()\n",
    "model.m.load_weights('ResCNN_triplet_training_checkpoint_265.h5', by_name=True)"
   ]
  },
  {
   "cell_type": "code",
   "execution_count": 19,
   "metadata": {
    "tags": []
   },
   "outputs": [
    {
     "output_type": "stream",
     "name": "stdout",
     "text": "WARNING:tensorflow:Model was constructed with shape (None, 160, 64, 1) for input Tensor(&quot;input:0&quot;, shape=(None, 160, 64, 1), dtype=float32), but it was called on an input with incompatible shape (None, 10033, 64, 1).\n"
    },
    {
     "output_type": "execute_result",
     "data": {
      "text/plain": "array([[ 5.29366825e-03, -1.77952331e-02, -6.47019073e-02,\n        -3.26307230e-02, -7.83695653e-03, -2.84621934e-03,\n         1.09644737e-02,  5.05160876e-02,  2.06758212e-02,\n        -9.31135286e-03, -2.25587133e-02,  4.50928276e-03,\n         5.54547319e-03, -4.43809554e-02,  4.99752583e-04,\n        -3.41944471e-02,  2.44984124e-02, -1.77322906e-02,\n         6.41553774e-02, -6.90589547e-02,  7.19904143e-04,\n        -2.26973300e-03, -1.24142475e-01, -1.52670378e-02,\n         6.69557555e-03,  6.52666017e-02,  4.42101806e-02,\n        -3.76745984e-02, -4.45243679e-02,  4.16646898e-02,\n        -6.84347078e-02,  2.98913429e-03, -4.44389284e-02,\n         5.97076211e-03,  1.85010191e-02, -1.44963926e-02,\n         4.62239310e-02, -1.47548849e-02, -1.42725771e-02,\n        -3.63146402e-02,  7.52732605e-02, -2.67843734e-02,\n        -4.39700261e-02,  2.32001557e-03,  4.53615114e-02,\n         4.10564877e-02,  3.30664963e-02, -2.34160461e-02,\n        -1.47338537e-02,  1.29114743e-02,  1.73416883e-02,\n         3.52778248e-02, -1.36339860e-02, -9.67879221e-02,\n        -6.97540417e-02,  2.61463113e-02,  4.22064848e-02,\n         4.06625643e-02, -1.07195945e-02, -1.30190402e-02,\n         1.43936537e-02, -4.99624051e-02, -4.06659953e-03,\n        -9.45844036e-03, -5.42747863e-02, -4.20877561e-02,\n         3.47228013e-02, -9.28119477e-03, -3.60986702e-02,\n        -1.90022103e-02,  3.02359159e-03, -2.71614804e-03,\n        -3.85311060e-02, -2.04242300e-02, -4.81560640e-02,\n         2.35935394e-02, -5.69609776e-02,  2.84904912e-02,\n        -1.54303554e-02, -3.56548652e-02,  3.35851349e-02,\n         1.70056000e-02,  4.68226895e-02, -1.53865255e-02,\n         1.77177286e-03, -1.26291951e-02, -1.75339226e-02,\n         8.05820338e-03,  4.03376743e-02,  2.71651912e-02,\n         1.52126327e-02,  1.27893942e-03,  1.21352160e-02,\n         1.45330410e-02, -6.21003248e-02, -4.92607756e-03,\n         1.61492098e-02,  1.56764854e-02,  2.22643018e-02,\n        -8.10396450e-04,  7.90647343e-02,  6.78247735e-02,\n        -3.91753158e-03,  2.51399516e-03,  3.57980318e-02,\n         1.14762401e-02,  4.11648117e-02, -7.02035427e-02,\n         4.63955756e-03,  3.90833057e-02,  1.07166274e-02,\n        -2.49951351e-02, -7.22584361e-03, -6.04280382e-02,\n        -1.96371470e-02, -2.41557099e-02, -4.01267596e-03,\n         5.55825233e-02,  4.07096092e-03, -5.84327579e-02,\n        -3.76076661e-02,  3.51916775e-02, -3.51785868e-02,\n         2.88231391e-02, -7.59357819e-03, -9.63293761e-03,\n        -2.18621586e-02,  8.08669068e-03, -2.88630240e-02,\n        -1.61053017e-02,  3.69921811e-02, -3.06285769e-02,\n         2.48239264e-02, -1.50843980e-02,  5.61124086e-02,\n         1.39035098e-02, -2.91227014e-04,  1.08727803e-02,\n         5.58268763e-02,  5.49120829e-02, -2.52995901e-02,\n        -1.41961304e-02,  3.00130900e-02, -2.87379846e-02,\n         7.51738995e-02,  9.36940536e-02,  3.15805450e-02,\n        -5.97570837e-02,  3.87753583e-02,  4.88784304e-03,\n        -5.16219474e-02, -4.31714626e-03, -2.01147981e-02,\n        -1.38449976e-02,  1.31638963e-02, -3.10754031e-02,\n         1.81627355e-03,  5.77490404e-02, -9.47375549e-04,\n         4.07115929e-03, -1.93416495e-02, -6.25959365e-04,\n        -4.76397984e-02,  7.68822897e-03,  6.09300397e-02,\n        -5.28087616e-02, -3.58488336e-02, -4.39905822e-02,\n        -1.36885252e-02,  1.05689513e-02, -7.30049759e-02,\n         8.05489793e-02, -2.25103889e-02, -4.72824369e-03,\n         2.73712371e-02,  2.90157497e-02,  1.51361143e-02,\n         5.25326170e-02,  6.27010390e-02,  7.00356718e-03,\n        -1.96729247e-02, -1.48441149e-02, -3.21508162e-02,\n        -4.34755981e-02,  7.39593478e-03,  3.22700143e-02,\n         4.84499335e-03,  1.40081812e-03, -7.58716986e-02,\n        -2.42116489e-02, -1.19817061e-02, -6.45386130e-02,\n         4.58932184e-02, -3.36903781e-02,  2.36516516e-03,\n         2.19714735e-03, -4.38939556e-02, -4.33967598e-02,\n        -2.08062176e-02, -5.43734878e-02, -5.41352853e-02,\n        -8.96568759e-04,  4.37531713e-03,  4.52018045e-02,\n        -6.28579855e-02, -1.27290376e-03, -9.88612883e-03,\n        -2.47373682e-05,  8.10059067e-03, -3.86945009e-02,\n        -8.87978636e-03,  2.57668854e-03, -4.98414831e-03,\n         4.05629240e-02,  8.21170583e-03, -1.67591162e-02,\n         5.84010035e-03,  5.65476366e-04, -2.03056335e-02,\n        -2.77671143e-02, -1.01685189e-02,  1.93165988e-02,\n         2.14486700e-02,  7.65849324e-03, -2.12887228e-02,\n        -2.94216685e-02, -3.42207663e-02,  5.89514114e-02,\n        -3.55687849e-02,  1.60730109e-02, -9.42647457e-03,\n        -3.62812802e-02, -4.35147323e-02,  3.94793227e-02,\n         2.56823115e-02,  1.04669435e-02,  4.33899201e-02,\n         2.24344134e-02, -6.95264190e-02, -4.04332206e-03,\n         3.59784141e-02,  9.03817825e-03,  4.15603891e-02,\n         1.25334756e-02,  5.35964258e-02,  4.91516180e-02,\n        -1.86724700e-02, -3.07968631e-02,  2.44231038e-02,\n         1.85136627e-02,  4.00179103e-02,  4.87213545e-02,\n        -1.32446922e-02, -4.35056947e-02, -6.76780790e-02,\n         1.60756949e-02,  1.08100124e-01,  8.54683109e-03,\n         5.34870895e-03, -1.52165547e-03,  1.81848779e-02,\n        -3.06188478e-03, -1.21819712e-01, -3.35623254e-03,\n         5.22693805e-03, -2.67638974e-02, -6.70985356e-02,\n        -5.18974550e-02,  7.37151597e-03,  3.20477709e-02,\n         1.79455976e-03,  1.95076317e-02,  1.26624897e-01,\n         2.70268675e-02, -2.08600629e-02, -1.60160400e-02,\n         1.23231784e-02,  5.38945161e-02,  5.01450803e-03,\n         1.25870286e-02,  4.98493798e-02,  2.74572242e-02,\n        -2.24105101e-02,  4.68676761e-02,  3.73727791e-02,\n         1.60474069e-02,  3.47678363e-02,  2.00539101e-02,\n         7.78977647e-02,  5.04583232e-02, -3.11448667e-02,\n        -4.48417477e-02,  7.54768997e-02, -4.36132364e-02,\n        -7.74333179e-02,  3.00262626e-02,  3.69013078e-03,\n        -6.97783241e-03,  5.30281439e-02, -7.33472081e-03,\n        -8.68749991e-02, -4.98955399e-02, -1.55125372e-02,\n        -6.76892139e-03,  3.91178094e-02, -5.11713186e-03,\n        -4.78225425e-02,  2.03835983e-02,  1.73721258e-02,\n        -1.41055873e-02,  2.06597820e-02,  1.70031097e-02,\n         2.05110968e-03,  3.94703895e-01, -6.99724630e-02,\n        -3.48710734e-03, -3.25485840e-02, -7.21826917e-03,\n         3.51670198e-02, -1.52362995e-02, -2.82042101e-02,\n        -2.98870038e-02, -1.09385839e-02, -1.27894860e-02,\n        -4.88798656e-02, -2.79379223e-04, -3.56741175e-02,\n         4.93466407e-02,  2.90616555e-03,  2.42105704e-02,\n        -1.28967911e-01, -3.04690562e-02,  8.75324085e-02,\n        -1.47896288e-02, -1.87616032e-02,  1.37962876e-02,\n         1.65812206e-02, -1.15596040e-05,  2.42225807e-02,\n        -3.85433808e-02,  3.52449603e-02, -5.02431877e-02,\n         1.48053383e-02, -6.77155936e-03,  1.23360083e-02,\n        -8.99204146e-03, -1.33150211e-02, -3.41418991e-03,\n         1.55831594e-02,  6.61394298e-02, -3.79073657e-02,\n        -2.42702314e-03,  2.47423109e-02,  2.60870196e-02,\n         4.71321940e-02, -1.70333572e-02,  6.73895106e-02,\n         2.45784353e-02, -1.43268555e-02, -6.81026205e-02,\n         2.33426169e-02,  4.37093787e-02,  4.74345777e-03,\n         3.95310782e-02, -1.94311850e-02,  2.14336123e-02,\n         4.88357842e-02, -2.20361967e-02, -7.28555582e-03,\n        -5.40672652e-02,  6.13064989e-02, -4.10173237e-02,\n         6.77436143e-02,  3.00209504e-02,  2.52037011e-02,\n         3.38985696e-02,  1.21519975e-02,  5.50586842e-02,\n         6.07760251e-03,  1.47555619e-02, -2.22086497e-02,\n         1.80383271e-03, -4.15919833e-02,  3.54465507e-02,\n        -1.71598315e-03,  3.67981419e-02,  6.63555041e-02,\n        -4.25639898e-02, -9.04805213e-02,  1.31081976e-02,\n         3.74205373e-02, -5.61491363e-02, -2.88383756e-02,\n         1.22600060e-03,  2.26411335e-02, -4.92153391e-02,\n        -2.91003603e-02,  5.54203056e-03,  2.94832233e-02,\n        -5.04683703e-02,  4.60003801e-02, -3.62470634e-02,\n        -2.90567819e-02, -5.86520582e-02,  1.93922259e-02,\n        -7.48838261e-02,  7.01697543e-02,  4.24871743e-02,\n        -2.01502349e-02,  2.15238873e-02, -6.64367229e-02,\n        -2.81525236e-02,  6.00226177e-03, -3.67780887e-02,\n        -5.12260236e-02, -3.20835225e-02,  2.84615345e-02,\n         4.21974296e-03, -2.96524679e-03, -2.90728416e-02,\n        -8.70109536e-03,  1.11836111e-02,  1.89696494e-02,\n        -6.85687037e-03, -1.70986995e-03,  5.28109968e-02,\n         4.99311723e-02, -4.44558077e-02,  2.95835305e-02,\n        -3.69672664e-02,  4.86939698e-02, -4.78505529e-02,\n        -1.20264338e-02,  9.25242621e-03, -1.39349205e-02,\n        -1.20951037e-03, -4.46026735e-02, -3.63138989e-02,\n         5.48502430e-03, -5.19426018e-02,  4.28160131e-02,\n         5.48565667e-03, -3.24098617e-02,  1.03411321e-02,\n        -2.08158419e-02,  7.61325955e-02, -4.33209576e-02,\n        -6.64272904e-02,  3.94301601e-02,  4.65427712e-02,\n        -8.50588456e-02, -5.38842240e-03,  1.44581376e-02,\n        -8.72475281e-02,  1.94654334e-02,  3.19924094e-02,\n         1.98647808e-02, -1.59461815e-02,  2.08406500e-03,\n        -1.94349531e-02,  1.54249510e-02,  5.73463440e-05,\n        -3.33145522e-02,  3.70998122e-02, -5.97401597e-02,\n         2.05177199e-02, -4.85118441e-02, -4.35634367e-02,\n        -2.89799832e-03,  5.76531775e-02, -3.86101753e-02,\n         9.22793895e-03,  6.75767586e-02,  3.48917879e-02,\n         2.29267799e-03,  4.86648781e-03,  5.25846472e-03,\n        -3.79823558e-02,  1.30595872e-02,  1.95530988e-02,\n         3.40095200e-02,  2.92351723e-01,  1.75564308e-02,\n        -4.48059430e-03, -6.31953776e-03,  1.42815616e-02,\n         7.40190642e-03,  3.10847424e-02,  3.63718010e-02,\n        -1.11663702e-03,  5.56303486e-02,  1.97907933e-03,\n        -3.07892170e-02, -3.88746448e-02, -3.05867977e-02,\n         1.45800607e-02,  1.02532767e-02,  2.40299068e-02,\n         1.98345371e-02,  5.28964549e-02,  7.70268124e-03,\n         2.25061864e-01, -1.34827532e-02, -2.29896698e-02,\n        -2.47415453e-02, -1.08357873e-02,  2.55392566e-02,\n        -5.18188700e-02,  4.62724641e-02, -1.79019272e-02,\n        -7.12371022e-02, -2.01429799e-02]], dtype=float32)"
     },
     "metadata": {},
     "execution_count": 19
    }
   ],
   "source": [
    "model.m.predict(np.expand_dims(raw_mfcc, axis=0))"
   ]
  },
  {
   "cell_type": "code",
   "execution_count": 3,
   "metadata": {},
   "outputs": [],
   "source": [
    "def single_audio_to_mfcc(path):\n",
    "    mfcc = sample_from_mfcc(read_mfcc(path, SAMPLE_RATE), NUM_FRAMES)\n",
    "    return mfcc[:, :, 0]\n",
    "    #predict = model.m.predict(np.expand_dims(mfcc, axis=0))\n",
    "    new_clip_name = path.replace('wav', 'npy')\n",
    "    #np.save(new_clip_name, predict)"
   ]
  },
  {
   "cell_type": "code",
   "execution_count": 4,
   "metadata": {
    "tags": []
   },
   "outputs": [],
   "source": [
    "res = single_audio_to_mfcc(audio_path)\n",
    "\n",
    "spec_augment_pytorch.visualization_spectrogram(mel_spectrogram=res, title=\"Raw Mel Spectrogram\")\n",
    "\n",
    "# reshape spectrogram shape to [batch_size, time, frequency]\n",
    "shape = res.shape\n",
    "#mel_spectrogram = np.reshape(mel_spectrogram, (-1, shape[0], shape[1]))\n",
    "res = torch.from_numpy(res)\n",
    "\n",
    "warped_masked_spectrogram = spec_augment_pytorch.spec_augment(mel_spectrogram=res)\n",
    "\n",
    "spec_augment_pytorch.visualization_spectrogram(mel_spectrogram=warped_masked_spectrogram, title=\"pytorch Warped & Masked Mel Spectrogram\")"
   ]
  },
  {
   "cell_type": "code",
   "execution_count": 25,
   "metadata": {
    "tags": []
   },
   "outputs": [
    {
     "output_type": "stream",
     "name": "stdout",
     "text": "(128, 17595)\n"
    },
    {
     "output_type": "error",
     "ename": "SystemExit",
     "evalue": "0",
     "traceback": [
      "An exception has occurred, use %tb to see the full traceback.\n",
      "\u001b[0;31mSystemExit\u001b[0m\u001b[0;31m:\u001b[0m 0\n"
     ]
    }
   ],
   "source": [
    "import argparse\n",
    "import librosa\n",
    "import numpy as np\n",
    "import torch\n",
    "from SpecAugment import spec_augment_pytorch\n",
    "import os, sys\n",
    "\n",
    "\n",
    "# Step 0 : load audio file, extract mel spectrogram\n",
    "audio, sampling_rate = librosa.load(audio_path)\n",
    "mel_spectrogram = librosa.feature.melspectrogram(y=audio,\n",
    "                                                    sr=sampling_rate,\n",
    "                                                    n_mels=128,\n",
    "                                                    hop_length=128,\n",
    "                                                    fmax=8000)\n",
    "\n",
    "# reshape spectrogram shape to [batch_size, time, frequency]\n",
    "shape = mel_spectrogram.shape\n",
    "#mel_spectrogram = np.reshape(mel_spectrogram, (-1, shape[0], shape[1]))\n",
    "mel_spectrogram = torch.from_numpy(mel_spectrogram)\n",
    "\n",
    "print(shape)\n",
    "# Show Raw mel-spectrogram\n",
    "spec_augment_pytorch.visualization_spectrogram(mel_spectrogram=mel_spectrogram, title=\"Raw Mel Spectrogram\")\n",
    "\n",
    "# Calculate SpecAugment pytorch\n",
    "#warped_masked_spectrogram = spec_augment_pytorch.spec_augment(mel_spectrogram=mel_spectrogram)\n",
    "\n",
    "# Show time warped & masked spectrogram\n",
    "#spec_augment_pytorch.visualization_spectrogram(mel_spectrogram=warped_masked_spectrogram, title=\"pytorch Warped & Masked Mel Spectrogram\")"
   ]
  },
  {
   "cell_type": "code",
   "execution_count": null,
   "metadata": {},
   "outputs": [],
   "source": []
  }
 ]
}